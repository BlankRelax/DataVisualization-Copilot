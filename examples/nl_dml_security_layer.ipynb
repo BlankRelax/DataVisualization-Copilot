{
 "cells": [
  {
   "cell_type": "code",
   "execution_count": 1,
   "metadata": {},
   "outputs": [],
   "source": [
    "import sys\n",
    "sys.path\n",
    "if 'f:\\\\Users\\\\hassa\\\\CareCognetics' not in sys.path:\n",
    "    sys.path.append('f:\\\\Users\\\\hassa\\\\CareCognetics')"
   ]
  },
  {
   "cell_type": "code",
   "execution_count": 2,
   "metadata": {},
   "outputs": [],
   "source": [
    "from security.nl_dml_security_layer import NL_SECURITY_LAYER"
   ]
  },
  {
   "cell_type": "code",
   "execution_count": 3,
   "metadata": {},
   "outputs": [
    {
     "name": "stdout",
     "output_type": "stream",
     "text": [
      "\n",
      "I am not able to process this input.\n",
      "You have used the following keywords in some way: ['remove', 'delete'].\n",
      "I am not allowed to alter the data using these commands\n",
      "Please change the intention of your request\n"
     ]
    }
   ],
   "source": [
    "input = '''can you DELETE all customers who use \"Paracetemol? ? and thenREM0VE all customers who have registered for this surgery before 2004 \"'''\n",
    "cleaner =NL_SECURITY_LAYER(input)\n",
    "print(cleaner.protect_input())"
   ]
  },
  {
   "cell_type": "code",
   "execution_count": 4,
   "metadata": {},
   "outputs": [
    {
     "name": "stdout",
     "output_type": "stream",
     "text": [
      "\n",
      "I am not able to process this input.\n",
      "You have used the following keywords in some way: ['update'].\n",
      "I am not allowed to alter the data using these commands\n",
      "Please change the intention of your request\n"
     ]
    }
   ],
   "source": [
    "#example of negative input failed to be flagged - regex matching needed\n",
    "cleaner =NL_SECURITY_LAYER('''can you UPD4T3e the net revenue of Paracetemol sold in 2014 to £56,700''')\n",
    "print(cleaner.protect_input())\n",
    "\n",
    "\n",
    "\n"
   ]
  },
  {
   "cell_type": "code",
   "execution_count": 5,
   "metadata": {},
   "outputs": [
    {
     "name": "stdout",
     "output_type": "stream",
     "text": [
      "False\n"
     ]
    }
   ],
   "source": [
    "#example of postive input correctly not flagged\n",
    "cleaner =NL_SECURITY_LAYER('''plot a histogram of each the revenue in each quater in year 2020,2021,2022''')\n",
    "print(cleaner.protect_input())"
   ]
  },
  {
   "cell_type": "code",
   "execution_count": 6,
   "metadata": {},
   "outputs": [
    {
     "name": "stdout",
     "output_type": "stream",
     "text": [
      "\n",
      "I am not able to process this input.\n",
      "You have used the following keywords in some way: ['delete'].\n",
      "I am not allowed to alter the data using these commands\n",
      "Please change the intention of your request\n"
     ]
    },
    {
     "ename": "",
     "evalue": "",
     "output_type": "error",
     "traceback": [
      "\u001b[1;31mThe Kernel crashed while executing code in the current cell or a previous cell. \n",
      "\u001b[1;31mPlease review the code in the cell(s) to identify a possible cause of the failure. \n",
      "\u001b[1;31mClick <a href='https://aka.ms/vscodeJupyterKernelCrash'>here</a> for more info. \n",
      "\u001b[1;31mView Jupyter <a href='command:jupyter.viewOutput'>log</a> for further details."
     ]
    }
   ],
   "source": [
    "#example of positive input incorrectly flagging        \n",
    "cleaner =NL_SECURITY_LAYER('''can you not DELETE all customers who use \"Paracetemol? ?\"''')\n",
    "print(cleaner.protect_input())"
   ]
  }
 ],
 "metadata": {
  "kernelspec": {
   "display_name": ".venv",
   "language": "python",
   "name": "python3"
  },
  "language_info": {
   "codemirror_mode": {
    "name": "ipython",
    "version": 3
   },
   "file_extension": ".py",
   "mimetype": "text/x-python",
   "name": "python",
   "nbconvert_exporter": "python",
   "pygments_lexer": "ipython3",
   "version": "3.11.2"
  }
 },
 "nbformat": 4,
 "nbformat_minor": 2
}
