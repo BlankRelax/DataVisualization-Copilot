{
 "cells": [
  {
   "cell_type": "markdown",
   "metadata": {},
   "source": [
    "# Supersetclient demo - Charts"
   ]
  },
  {
   "cell_type": "code",
   "execution_count": 1,
   "metadata": {},
   "outputs": [],
   "source": [
    "import sys\n",
    "sys.path\n",
    "if 'f:\\\\Users\\\\hassa\\\\carecognitics_backend' not in sys.path:\n",
    "    sys.path.append('f:\\\\Users\\\\hassa\\\\carecognitics_backend')"
   ]
  },
  {
   "cell_type": "code",
   "execution_count": 2,
   "metadata": {},
   "outputs": [],
   "source": [
    "from supersetapiclient.charts import Charts\n",
    "import requests"
   ]
  },
  {
   "cell_type": "code",
   "execution_count": 3,
   "metadata": {},
   "outputs": [],
   "source": [
    "#base_url='http://localhost:8088'\n",
    "base_url='http://13.42.20.254:8088'\n",
    "username='admin'\n",
    "password='admin'\n",
    "payload = {'username':username,\n",
    "                'password':password,\n",
    "                'provider':'db',\n",
    "                'refresh': 'True'\n",
    "                }  \n",
    "# login\n",
    "r = requests.post(base_url + '/api/v1/security/login', json=payload)\n",
    "access_token = r.json()['access_token']\n",
    "refresh_token = r.json()['refresh_token']\n",
    "headerAuth = {'Authorization':'Bearer ' + access_token}"
   ]
  },
  {
   "cell_type": "code",
   "execution_count": 4,
   "metadata": {},
   "outputs": [],
   "source": [
    "crt = Charts(base_url=base_url,\n",
    "             headerAuth=headerAuth) "
   ]
  },
  {
   "cell_type": "code",
   "execution_count": 5,
   "metadata": {},
   "outputs": [
    {
     "data": {
      "text/plain": [
       "{'Number of Aspiring Developers': 96,\n",
       " 'Proportion of Revenue by Product Line': 95,\n",
       " 'Weekly Messages': 94,\n",
       " 'Games': 93,\n",
       " 'Number of Deals (for each Combination)': 92,\n",
       " '# of Games That Hit 100k in Sales By Release Year': 91,\n",
       " 'Cross Channel Relationship heatmap': 89,\n",
       " 'Vaccine Candidates per Phase': 76,\n",
       " 'Popular Genres Across Platforms': 87,\n",
       " 'Games per Genre': 86,\n",
       " 'Commute Time': 85,\n",
       " 'How do you prefer to work?': 84,\n",
       " 'Seasonality of Revenue (per Product Line)': 83,\n",
       " 'Breakdown of Developer Type': 82,\n",
       " 'First Time Developer?': 81,\n",
       " 'Current Developers: Is this your first development job?': 80,\n",
       " 'Quarterly Sales (By Product Line)': 79,\n",
       " 'Are you an ethnic minority in your city?': 673,\n",
       " 'Total Sales per Market (Grouped by Genre)': 672}"
      ]
     },
     "execution_count": 5,
     "metadata": {},
     "output_type": "execute_result"
    }
   ],
   "source": [
    "crt.info_all"
   ]
  },
  {
   "cell_type": "code",
   "execution_count": 8,
   "metadata": {},
   "outputs": [
    {
     "data": {
      "text/plain": [
       "{82: 'id',\n",
       " '{\"timed_refresh_immune_slices\": [], \"expanded_slices\": {}, \"refresh_frequency\": 0, \"default_filters\": \"{}\", \"color_scheme\": \"supersetColors\", \"label_colors\": {\"0\": \"#FCC700\", \"1\": \"#A868B7\", \"15\": \"#3CCCCB\", \"30\": \"#A38F79\", \"45\": \"#8FD3E4\", \"age\": \"#1FA8C9\", \"Yes,\": \"#1FA8C9\", \"Female\": \"#454E7C\", \"Prefer\": \"#5AC189\", \"No,\": \"#FF7F44\", \"Male\": \"#666666\", \"Prefer not to say\": \"#E04355\", \"Ph.D.\": \"#FCC700\", \"associate\\'s degree\": \"#A868B7\", \"bachelor\\'s degree\": \"#3CCCCB\", \"high school diploma or equivalent (GED)\": \"#A38F79\", \"master\\'s degree (non-professional)\": \"#8FD3E4\", \"no high school (secondary school)\": \"#A1A6BD\", \"professional degree (MBA, MD, JD, etc.)\": \"#ACE1C4\", \"some college credit, no degree\": \"#FEC0A1\", \"some high school\": \"#B2B2B2\", \"trade, technical, or vocational training\": \"#EFA1AA\", \"No, not an ethnic minority\": \"#1FA8C9\", \"Yes, an ethnic minority\": \"#454E7C\", \"<NULL>\": \"#5AC189\", \"Yes\": \"#FF7F44\", \"No\": \"#666666\", \"last_yr_income\": \"#E04355\", \"More\": \"#A1A6BD\", \"Less\": \"#ACE1C4\", \"I\": \"#FEC0A1\", \"expected_earn\": \"#B2B2B2\", \"Yes: Willing To\": \"#EFA1AA\", \"No: Not Willing to\": \"#FDE380\", \"No Answer\": \"#D3B3DA\", \"In an Office (with Other Developers)\": \"#9EE5E5\", \"No Preference\": \"#D1C6BC\", \"From Home\": \"#1FA8C9\"}}': 'dashboards',\n",
       " 'Breakdown of Developer Type': 'title'}"
      ]
     },
     "execution_count": 8,
     "metadata": {},
     "output_type": "execute_result"
    }
   ],
   "source": [
    "crt.info(id=82, verbose=False)"
   ]
  },
  {
   "cell_type": "code",
   "execution_count": 6,
   "metadata": {},
   "outputs": [
    {
     "name": "stdout",
     "output_type": "stream",
     "text": [
      "{'message': 'Deleted 1 chart'}\n",
      "dashboard info updated\n",
      "updated dashboards: {96: 'Number of Aspiring Developers', 95: 'Proportion of Revenue by Product Line', 94: 'Weekly Messages', 93: 'Games', 92: 'Number of Deals (for each Combination)', 91: '# of Games That Hit 100k in Sales By Release Year', 89: 'Cross Channel Relationship heatmap', 88: 'Vaccine Candidates per Phase', 87: 'Popular Genres Across Platforms', 86: 'Games per Genre', 85: 'Commute Time', 84: 'How do you prefer to work?', 83: 'Seasonality of Revenue (per Product Line)', 82: 'Breakdown of Developer Type', 81: 'First Time Developer?', 80: 'Current Developers: Is this your first development job?', 79: 'Quarterly Sales (By Product Line)', 673: 'Are you an ethnic minority in your city?', 672: 'Total Sales per Market (Grouped by Genre)', 76: 'Vaccine Candidates per Phase'}\n"
     ]
    }
   ],
   "source": [
    "crt.delete(charts=[90], verbose=True)\n",
    "print(f\"updated dashboards: {crt.info_all}\")"
   ]
  },
  {
   "cell_type": "code",
   "execution_count": null,
   "metadata": {},
   "outputs": [],
   "source": [
    "crt.create('charts_test_viz')"
   ]
  }
 ],
 "metadata": {
  "kernelspec": {
   "display_name": ".venv",
   "language": "python",
   "name": "python3"
  },
  "language_info": {
   "codemirror_mode": {
    "name": "ipython",
    "version": 3
   },
   "file_extension": ".py",
   "mimetype": "text/x-python",
   "name": "python",
   "nbconvert_exporter": "python",
   "pygments_lexer": "ipython3",
   "version": "3.11.2"
  }
 },
 "nbformat": 4,
 "nbformat_minor": 2
}
