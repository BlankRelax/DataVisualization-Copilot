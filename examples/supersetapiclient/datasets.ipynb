{
 "cells": [
  {
   "cell_type": "code",
   "execution_count": 1,
   "metadata": {},
   "outputs": [],
   "source": [
    "import sys\n",
    "sys.path\n",
    "if 'f:\\\\Users\\\\hassa\\\\carecognitics_backend' not in sys.path:\n",
    "    sys.path.append('f:\\\\Users\\\\hassa\\\\carecognitics_backend')"
   ]
  },
  {
   "cell_type": "code",
   "execution_count": 2,
   "metadata": {},
   "outputs": [],
   "source": [
    "from supersetapiclient.dataset import Datasets\n",
    "import requests"
   ]
  },
  {
   "cell_type": "code",
   "execution_count": 3,
   "metadata": {},
   "outputs": [],
   "source": [
    "#base_url='http://localhost:8088'\n",
    "base_url='http://13.42.20.254:8088'\n",
    "username='admin'\n",
    "password='admin'\n",
    "payload = {'username':username,\n",
    "                'password':password,\n",
    "                'provider':'db',\n",
    "                'refresh': 'True'\n",
    "                }  \n",
    "# login\n",
    "r = requests.post(base_url + '/api/v1/security/login', json=payload)\n",
    "access_token = r.json()['access_token']\n",
    "refresh_token = r.json()['refresh_token']\n",
    "headerAuth = {'Authorization':'Bearer ' + access_token}"
   ]
  },
  {
   "cell_type": "code",
   "execution_count": 4,
   "metadata": {},
   "outputs": [],
   "source": [
    "dts=Datasets(base_url=base_url,\n",
    "          headerAuth=headerAuth)"
   ]
  },
  {
   "cell_type": "code",
   "execution_count": 5,
   "metadata": {},
   "outputs": [
    {
     "data": {
      "text/plain": [
       "{28: 'public.genre,eu,jp',\n",
       " 20: 'messages_channels',\n",
       " 11: 'channels',\n",
       " 17: 'cleaned_sales_data',\n",
       " 12: 'video_game_sales',\n",
       " 18: 'new_members_daily',\n",
       " 2: 'birth_names',\n",
       " 15: 'members_channels_2',\n",
       " 13: 'users_channels',\n",
       " 21: 'users',\n",
       " 5: 'sf_population_polygons',\n",
       " 19: 'messages',\n",
       " 8: 'users_channels-uzooNNtSRO',\n",
       " 16: 'unicode_test',\n",
       " 4: 'birth_france_by_region',\n",
       " 23: 'covid_vaccines',\n",
       " 22: 'channel_members',\n",
       " 3: 'long_lat',\n",
       " 14: 'threads',\n",
       " 7: 'bart_lines'}"
      ]
     },
     "execution_count": 5,
     "metadata": {},
     "output_type": "execute_result"
    }
   ],
   "source": [
    "dts.info_all"
   ]
  },
  {
   "cell_type": "code",
   "execution_count": 6,
   "metadata": {},
   "outputs": [
    {
     "data": {
      "text/plain": [
       "{'id': 28, 'datasource': 'public.genre,eu,jp', 'title': 'public.genre,eu,jp'}"
      ]
     },
     "execution_count": 6,
     "metadata": {},
     "output_type": "execute_result"
    }
   ],
   "source": [
    "dts.info(id=28)"
   ]
  },
  {
   "cell_type": "code",
   "execution_count": 7,
   "metadata": {},
   "outputs": [
    {
     "name": "stdout",
     "output_type": "stream",
     "text": [
      "dataset has been created with name example_dataset\n"
     ]
    }
   ],
   "source": [
    "dts.create(sql=\"SELECT * from video_game_sales\",\n",
    "           db_ids={'examples':1},\n",
    "           table_name='example_dataset',\n",
    "           db_name='examples')\n",
    "dts.info_all"
   ]
  },
  {
   "cell_type": "code",
   "execution_count": 9,
   "metadata": {},
   "outputs": [
    {
     "name": "stdout",
     "output_type": "stream",
     "text": [
      "{'message': 'Deleted 1 dataset'}\n",
      "dataset info updated\n"
     ]
    },
    {
     "data": {
      "text/plain": [
       "{28: 'public.genre,eu,jp',\n",
       " 20: 'messages_channels',\n",
       " 11: 'channels',\n",
       " 17: 'cleaned_sales_data',\n",
       " 12: 'video_game_sales',\n",
       " 18: 'new_members_daily',\n",
       " 2: 'birth_names',\n",
       " 15: 'members_channels_2',\n",
       " 13: 'users_channels',\n",
       " 21: 'users',\n",
       " 5: 'sf_population_polygons',\n",
       " 19: 'messages',\n",
       " 8: 'users_channels-uzooNNtSRO',\n",
       " 16: 'unicode_test',\n",
       " 4: 'birth_france_by_region',\n",
       " 23: 'covid_vaccines',\n",
       " 22: 'channel_members',\n",
       " 3: 'long_lat',\n",
       " 14: 'threads',\n",
       " 7: 'bart_lines'}"
      ]
     },
     "execution_count": 9,
     "metadata": {},
     "output_type": "execute_result"
    }
   ],
   "source": [
    "dts.delete(datasets=29,verbose=True)\n",
    "dts.info_all"
   ]
  }
 ],
 "metadata": {
  "kernelspec": {
   "display_name": ".venv",
   "language": "python",
   "name": "python3"
  },
  "language_info": {
   "codemirror_mode": {
    "name": "ipython",
    "version": 3
   },
   "file_extension": ".py",
   "mimetype": "text/x-python",
   "name": "python",
   "nbconvert_exporter": "python",
   "pygments_lexer": "ipython3",
   "version": "3.11.2"
  }
 },
 "nbformat": 4,
 "nbformat_minor": 2
}
