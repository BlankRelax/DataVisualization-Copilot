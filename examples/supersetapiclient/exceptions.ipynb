{
 "cells": [
  {
   "cell_type": "markdown",
   "metadata": {},
   "source": [
    "# Supersetapiclient demo - Dashboards"
   ]
  },
  {
   "cell_type": "code",
   "execution_count": 1,
   "metadata": {},
   "outputs": [],
   "source": [
    "import sys\n",
    "sys.path\n",
    "if 'f:\\\\Users\\\\hassa\\\\carecognitics_backend' not in sys.path:\n",
    "    sys.path.append('f:\\\\Users\\\\hassa\\\\carecognitics_backend')"
   ]
  },
  {
   "cell_type": "code",
   "execution_count": 2,
   "metadata": {},
   "outputs": [],
   "source": [
    "from supersetapiclient.client import SupersetAPIClient\n",
    "from supersetapiclient.dataset import Datasets\n",
    "from supersetapiclient.charts import Charts\n",
    "import requests"
   ]
  },
  {
   "cell_type": "markdown",
   "metadata": {},
   "source": [
    "## client"
   ]
  },
  {
   "cell_type": "code",
   "execution_count": 3,
   "metadata": {},
   "outputs": [
    {
     "ename": "DatabaseSchemaNotAccessedError",
     "evalue": "schemas for chinook cannot be accessed",
     "output_type": "error",
     "traceback": [
      "\u001b[1;31m---------------------------------------------------------------------------\u001b[0m",
      "\u001b[1;31mKeyError\u001b[0m                                  Traceback (most recent call last)",
      "File \u001b[1;32mf:\\Users\\hassa\\carecognitics_backend\\supersetapiclient\\client.py:44\u001b[0m, in \u001b[0;36mSupersetAPIClient.__init__\u001b[1;34m(self, base_url, username, password)\u001b[0m\n\u001b[0;32m     43\u001b[0m \u001b[38;5;28;01mtry\u001b[39;00m:\n\u001b[1;32m---> 44\u001b[0m     db_scr \u001b[38;5;241m=\u001b[39m requests\u001b[38;5;241m.\u001b[39mget(base_url\u001b[38;5;241m+\u001b[39m\u001b[38;5;124mf\u001b[39m\u001b[38;5;124m\"\u001b[39m\u001b[38;5;124m/api/v1/database/\u001b[39m\u001b[38;5;132;01m{\u001b[39;00m\u001b[43mdb_ids\u001b[49m\u001b[43m[\u001b[49m\u001b[43mdatabase_name\u001b[49m\u001b[43m]\u001b[49m\u001b[38;5;132;01m}\u001b[39;00m\u001b[38;5;124m/schemas/\u001b[39m\u001b[38;5;124m\"\u001b[39m, headers\u001b[38;5;241m=\u001b[39m\u001b[38;5;28mself\u001b[39m\u001b[38;5;241m.\u001b[39m_headerAuth) \u001b[38;5;66;03m# this fixes code to chinook\u001b[39;00m\n\u001b[0;32m     45\u001b[0m \u001b[38;5;28;01mexcept\u001b[39;00m \u001b[38;5;167;01mKeyError\u001b[39;00m:\n",
      "\u001b[1;31mKeyError\u001b[0m: 'chinook'",
      "\nDuring handling of the above exception, another exception occurred:\n",
      "\u001b[1;31mDatabaseSchemaNotAccessedError\u001b[0m            Traceback (most recent call last)",
      "Cell \u001b[1;32mIn[3], line 5\u001b[0m\n\u001b[0;32m      3\u001b[0m username\u001b[38;5;241m=\u001b[39m\u001b[38;5;124m'\u001b[39m\u001b[38;5;124madmin\u001b[39m\u001b[38;5;124m'\u001b[39m\n\u001b[0;32m      4\u001b[0m password\u001b[38;5;241m=\u001b[39m\u001b[38;5;124m'\u001b[39m\u001b[38;5;124madmin\u001b[39m\u001b[38;5;124m'\u001b[39m\n\u001b[1;32m----> 5\u001b[0m \u001b[43mSupersetAPIClient\u001b[49m\u001b[43m(\u001b[49m\u001b[43mbase_url\u001b[49m\u001b[38;5;241;43m=\u001b[39;49m\u001b[43mbase_url\u001b[49m\u001b[43m,\u001b[49m\n\u001b[0;32m      6\u001b[0m \u001b[43m                  \u001b[49m\u001b[43musername\u001b[49m\u001b[38;5;241;43m=\u001b[39;49m\u001b[43musername\u001b[49m\u001b[43m,\u001b[49m\n\u001b[0;32m      7\u001b[0m \u001b[43m                  \u001b[49m\u001b[43mpassword\u001b[49m\u001b[38;5;241;43m=\u001b[39;49m\u001b[43mpassword\u001b[49m\u001b[43m)\u001b[49m\n",
      "File \u001b[1;32mf:\\Users\\hassa\\carecognitics_backend\\supersetapiclient\\client.py:46\u001b[0m, in \u001b[0;36mSupersetAPIClient.__init__\u001b[1;34m(self, base_url, username, password)\u001b[0m\n\u001b[0;32m     44\u001b[0m     db_scr \u001b[38;5;241m=\u001b[39m requests\u001b[38;5;241m.\u001b[39mget(base_url\u001b[38;5;241m+\u001b[39m\u001b[38;5;124mf\u001b[39m\u001b[38;5;124m\"\u001b[39m\u001b[38;5;124m/api/v1/database/\u001b[39m\u001b[38;5;132;01m{\u001b[39;00mdb_ids[database_name]\u001b[38;5;132;01m}\u001b[39;00m\u001b[38;5;124m/schemas/\u001b[39m\u001b[38;5;124m\"\u001b[39m, headers\u001b[38;5;241m=\u001b[39m\u001b[38;5;28mself\u001b[39m\u001b[38;5;241m.\u001b[39m_headerAuth) \u001b[38;5;66;03m# this fixes code to chinook\u001b[39;00m\n\u001b[0;32m     45\u001b[0m \u001b[38;5;28;01mexcept\u001b[39;00m \u001b[38;5;167;01mKeyError\u001b[39;00m:\n\u001b[1;32m---> 46\u001b[0m     \u001b[38;5;28;01mraise\u001b[39;00m DatabaseSchemaNotAccessedError(database_name\u001b[38;5;241m=\u001b[39mdatabase_name)\n\u001b[0;32m     48\u001b[0m db_sc:\u001b[38;5;28mdict\u001b[39m[\u001b[38;5;28mlist\u001b[39m] \u001b[38;5;241m=\u001b[39m db_scr\u001b[38;5;241m.\u001b[39mjson() \u001b[38;5;66;03m# e.g {'result': ['information_schema', 'public']}\u001b[39;00m\n\u001b[0;32m     50\u001b[0m \u001b[38;5;28mself\u001b[39m\u001b[38;5;241m.\u001b[39mdb_ids\u001b[38;5;241m=\u001b[39m db_ids\n",
      "\u001b[1;31mDatabaseSchemaNotAccessedError\u001b[0m: schemas for chinook cannot be accessed"
     ]
    }
   ],
   "source": [
    "#base_url='http://localhost:8088'\n",
    "base_url='http://13.42.20.254:8088'\n",
    "username='admin'\n",
    "password='admin'\n",
    "SupersetAPIClient(base_url=base_url,\n",
    "                  username=username,\n",
    "                  password=password)"
   ]
  },
  {
   "cell_type": "code",
   "execution_count": 3,
   "metadata": {},
   "outputs": [],
   "source": [
    "base_url='http://13.42.20.254:8088'\n",
    "username='admin'\n",
    "password='admin'\n",
    "payload = {'username':username,\n",
    "                'password':password,\n",
    "                'provider':'db',\n",
    "                'refresh': 'True'\n",
    "                }  \n",
    "# login\n",
    "r = requests.post(base_url + '/api/v1/security/login', json=payload)\n",
    "access_token = r.json()['access_token']\n",
    "refresh_token = r.json()['refresh_token']\n",
    "headerAuth = {'Authorization':'Bearer ' + access_token}"
   ]
  },
  {
   "cell_type": "markdown",
   "metadata": {},
   "source": [
    "## Datasets"
   ]
  },
  {
   "cell_type": "code",
   "execution_count": 4,
   "metadata": {},
   "outputs": [
    {
     "ename": "DatasetNotCreatedError",
     "evalue": "new table could not be created. Request error code : <Response [422]>",
     "output_type": "error",
     "traceback": [
      "\u001b[1;31m---------------------------------------------------------------------------\u001b[0m",
      "\u001b[1;31mDatasetNotCreatedError\u001b[0m                    Traceback (most recent call last)",
      "Cell \u001b[1;32mIn[4], line 2\u001b[0m\n\u001b[0;32m      1\u001b[0m \u001b[43mDatasets\u001b[49m\u001b[43m(\u001b[49m\u001b[43mbase_url\u001b[49m\u001b[38;5;241;43m=\u001b[39;49m\u001b[43mbase_url\u001b[49m\u001b[43m,\u001b[49m\n\u001b[1;32m----> 2\u001b[0m \u001b[43m         \u001b[49m\u001b[43mheaderAuth\u001b[49m\u001b[38;5;241;43m=\u001b[39;49m\u001b[43mheaderAuth\u001b[49m\u001b[43m)\u001b[49m\u001b[38;5;241;43m.\u001b[39;49m\u001b[43mcreate\u001b[49m\u001b[43m(\u001b[49m\u001b[43msql\u001b[49m\u001b[38;5;241;43m=\u001b[39;49m\u001b[38;5;124;43m\"\u001b[39;49m\u001b[38;5;124;43mSELECT * FROM genre\u001b[39;49m\u001b[38;5;124;43m\"\u001b[39;49m\u001b[43m,\u001b[49m\n\u001b[0;32m      3\u001b[0m \u001b[43m                                       \u001b[49m\u001b[43mdb_ids\u001b[49m\u001b[38;5;241;43m=\u001b[39;49m\u001b[43m{\u001b[49m\u001b[38;5;124;43m'\u001b[39;49m\u001b[38;5;124;43mchinook\u001b[39;49m\u001b[38;5;124;43m'\u001b[39;49m\u001b[43m:\u001b[49m\u001b[38;5;241;43m5\u001b[39;49m\u001b[43m}\u001b[49m\u001b[43m,\u001b[49m\n\u001b[0;32m      4\u001b[0m \u001b[43m                                       \u001b[49m\u001b[43mtable_name\u001b[49m\u001b[38;5;241;43m=\u001b[39;49m\u001b[38;5;124;43m\"\u001b[39;49m\u001b[38;5;124;43mnew table\u001b[39;49m\u001b[38;5;124;43m\"\u001b[39;49m\u001b[43m,\u001b[49m\n\u001b[0;32m      5\u001b[0m \u001b[43m                                       \u001b[49m\u001b[43m)\u001b[49m\n",
      "File \u001b[1;32mf:\\Users\\hassa\\carecognitics_backend\\supersetapiclient\\dataset.py:86\u001b[0m, in \u001b[0;36mDatasets.create\u001b[1;34m(self, sql, db_ids, table_name, db_name, verbose)\u001b[0m\n\u001b[0;32m     74\u001b[0m r \u001b[38;5;241m=\u001b[39m requests\u001b[38;5;241m.\u001b[39mpost(\u001b[38;5;28mself\u001b[39m\u001b[38;5;241m.\u001b[39m_base_url\u001b[38;5;241m+\u001b[39m\u001b[38;5;124m'\u001b[39m\u001b[38;5;124m/api/v1/dataset/\u001b[39m\u001b[38;5;124m'\u001b[39m,\n\u001b[0;32m     75\u001b[0m                 headers\u001b[38;5;241m=\u001b[39m\u001b[38;5;28mself\u001b[39m\u001b[38;5;241m.\u001b[39m_headerAuth,\n\u001b[0;32m     76\u001b[0m                 json\u001b[38;5;241m=\u001b[39m{\u001b[38;5;124m\"\u001b[39m\u001b[38;5;124mdatabase\u001b[39m\u001b[38;5;124m\"\u001b[39m: db_ids[db_name],\n\u001b[1;32m   (...)\u001b[0m\n\u001b[0;32m     83\u001b[0m                 \u001b[38;5;124m\"\u001b[39m\u001b[38;5;124msql\u001b[39m\u001b[38;5;124m\"\u001b[39m: sql ,\n\u001b[0;32m     84\u001b[0m                 \u001b[38;5;124m\"\u001b[39m\u001b[38;5;124mtable_name\u001b[39m\u001b[38;5;124m\"\u001b[39m: table_name })\n\u001b[0;32m     85\u001b[0m \u001b[38;5;28;01mif\u001b[39;00m verbose: \u001b[38;5;28mprint\u001b[39m(r,r\u001b[38;5;241m.\u001b[39mjson())\n\u001b[1;32m---> 86\u001b[0m \u001b[38;5;28;01mif\u001b[39;00m r\u001b[38;5;241m.\u001b[39mstatus_code\u001b[38;5;241m!=\u001b[39m\u001b[38;5;241m201\u001b[39m: \u001b[38;5;28;01mraise\u001b[39;00m DatasetNotCreatedError(dataset_name\u001b[38;5;241m=\u001b[39mtable_name, r_error\u001b[38;5;241m=\u001b[39mr)\n\u001b[0;32m     87\u001b[0m \u001b[38;5;28;01melse\u001b[39;00m: \u001b[38;5;28mprint\u001b[39m(\u001b[38;5;124mf\u001b[39m\u001b[38;5;124m\"\u001b[39m\u001b[38;5;124mdataset has been created with name \u001b[39m\u001b[38;5;132;01m{\u001b[39;00mtable_name\u001b[38;5;132;01m}\u001b[39;00m\u001b[38;5;124m\"\u001b[39m)\n\u001b[0;32m     88\u001b[0m excecuted_data_id \u001b[38;5;241m=\u001b[39mr\u001b[38;5;241m.\u001b[39mjson()[\u001b[38;5;124m'\u001b[39m\u001b[38;5;124mid\u001b[39m\u001b[38;5;124m'\u001b[39m] \u001b[38;5;66;03m# e.g 31\u001b[39;00m\n",
      "\u001b[1;31mDatasetNotCreatedError\u001b[0m: new table could not be created. Request error code : <Response [422]>"
     ]
    }
   ],
   "source": [
    "Datasets(base_url=base_url,\n",
    "         headerAuth=headerAuth).create(sql=\"SELECT * FROM genre\",\n",
    "                                       db_ids={'chinook':5},\n",
    "                                       table_name=\"new table\",\n",
    "                                       )"
   ]
  },
  {
   "cell_type": "markdown",
   "metadata": {},
   "source": [
    "# Charts"
   ]
  },
  {
   "cell_type": "code",
   "execution_count": 4,
   "metadata": {},
   "outputs": [
    {
     "ename": "UnsupportedViztypeError",
     "evalue": "unknown_viz_type is not supported. Choose from the following: ['bar chart', 'pie chart', 'timeseries', 'table', 'scatter plot']",
     "output_type": "error",
     "traceback": [
      "\u001b[1;31m---------------------------------------------------------------------------\u001b[0m",
      "\u001b[1;31mUnsupportedViztypeError\u001b[0m                   Traceback (most recent call last)",
      "Cell \u001b[1;32mIn[4], line 2\u001b[0m\n\u001b[0;32m      1\u001b[0m \u001b[43mCharts\u001b[49m\u001b[43m(\u001b[49m\u001b[43mbase_url\u001b[49m\u001b[38;5;241;43m=\u001b[39;49m\u001b[43mbase_url\u001b[49m\u001b[43m,\u001b[49m\n\u001b[1;32m----> 2\u001b[0m \u001b[43m         \u001b[49m\u001b[43mheaderAuth\u001b[49m\u001b[38;5;241;43m=\u001b[39;49m\u001b[43mheaderAuth\u001b[49m\u001b[43m)\u001b[49m\u001b[38;5;241;43m.\u001b[39;49m\u001b[43mcreate\u001b[49m\u001b[43m(\u001b[49m\u001b[43mslice_name\u001b[49m\u001b[38;5;241;43m=\u001b[39;49m\u001b[38;5;124;43m\"\u001b[39;49m\u001b[38;5;124;43mtest chart\u001b[39;49m\u001b[38;5;124;43m\"\u001b[39;49m\u001b[43m,\u001b[49m\n\u001b[0;32m      3\u001b[0m \u001b[43m                                       \u001b[49m\u001b[43mviz_type\u001b[49m\u001b[38;5;241;43m=\u001b[39;49m\u001b[38;5;124;43m\"\u001b[39;49m\u001b[38;5;124;43munknown_viz_type\u001b[39;49m\u001b[38;5;124;43m\"\u001b[39;49m\u001b[43m,\u001b[49m\n\u001b[0;32m      4\u001b[0m \u001b[43m                                      \u001b[49m\u001b[43mdashboard_ids\u001b[49m\u001b[38;5;241;43m=\u001b[39;49m\u001b[43m[\u001b[49m\u001b[38;5;241;43m31\u001b[39;49m\u001b[43m]\u001b[49m\u001b[43m,\u001b[49m\n\u001b[0;32m      5\u001b[0m \u001b[43m                                        \u001b[49m\u001b[43mcolumn_names\u001b[49m\u001b[38;5;241;43m=\u001b[39;49m\u001b[43m[\u001b[49m\u001b[38;5;124;43m\"\u001b[39;49m\u001b[38;5;124;43msales\u001b[39;49m\u001b[38;5;124;43m\"\u001b[39;49m\u001b[43m,\u001b[49m\u001b[38;5;124;43m\"\u001b[39;49m\u001b[38;5;124;43mtime\u001b[39;49m\u001b[38;5;124;43m\"\u001b[39;49m\u001b[43m]\u001b[49m\u001b[43m,\u001b[49m\n\u001b[0;32m      6\u001b[0m \u001b[43m                                        \u001b[49m\u001b[43mexcecuted_data_uid\u001b[49m\u001b[38;5;241;43m=\u001b[39;49m\u001b[38;5;124;43m\"\u001b[39;49m\u001b[38;5;124;43mtable__32\u001b[39;49m\u001b[38;5;124;43m\"\u001b[39;49m\u001b[43m,\u001b[49m\n\u001b[0;32m      7\u001b[0m \u001b[43m                                        \u001b[49m\u001b[43mexcecuted_data_id\u001b[49m\u001b[38;5;241;43m=\u001b[39;49m\u001b[38;5;241;43m32\u001b[39;49m\u001b[43m,\u001b[49m\n\u001b[0;32m      8\u001b[0m \u001b[43m                                        \u001b[49m\u001b[43mschema\u001b[49m\u001b[38;5;241;43m=\u001b[39;49m\u001b[38;5;124;43m'\u001b[39;49m\u001b[38;5;124;43mchinook\u001b[39;49m\u001b[38;5;124;43m'\u001b[39;49m\u001b[43m,\u001b[49m\n\u001b[0;32m      9\u001b[0m \u001b[43m                                        \u001b[49m\u001b[43mtable_name\u001b[49m\u001b[38;5;241;43m=\u001b[39;49m\u001b[38;5;124;43m'\u001b[39;49m\u001b[38;5;124;43mnew tanle\u001b[39;49m\u001b[38;5;124;43m'\u001b[39;49m\u001b[43m,\u001b[49m\n\u001b[0;32m     10\u001b[0m \u001b[43m                                        \u001b[49m\u001b[43mexcecuted_data_type\u001b[49m\u001b[38;5;241;43m=\u001b[39;49m\u001b[38;5;124;43m'\u001b[39;49m\u001b[38;5;124;43mtable\u001b[39;49m\u001b[38;5;124;43m'\u001b[39;49m\u001b[43m,\u001b[49m\n\u001b[0;32m     11\u001b[0m \u001b[43m                                        \u001b[49m\u001b[43m)\u001b[49m\n",
      "File \u001b[1;32mf:\\Users\\hassa\\carecognitics_backend\\supersetapiclient\\charts.py:479\u001b[0m, in \u001b[0;36mCharts.create\u001b[1;34m(self, slice_name, viz_type, dashboard_ids, column_names, excecuted_data_uid, excecuted_data_id, schema, table_name, excecuted_data_type, verbose)\u001b[0m\n\u001b[0;32m    477\u001b[0m     \u001b[38;5;28;01mif\u001b[39;00m verbose: \u001b[38;5;28mprint\u001b[39m(r,r\u001b[38;5;241m.\u001b[39mjson())\n\u001b[0;32m    478\u001b[0m     \u001b[38;5;28;01mreturn\u001b[39;00m r\u001b[38;5;241m.\u001b[39mjson()\n\u001b[1;32m--> 479\u001b[0m \u001b[38;5;28;01melse\u001b[39;00m: \u001b[38;5;28;01mraise\u001b[39;00m UnsupportedViztypeError(viz_type\u001b[38;5;241m=\u001b[39mviz_type)\n",
      "\u001b[1;31mUnsupportedViztypeError\u001b[0m: unknown_viz_type is not supported. Choose from the following: ['bar chart', 'pie chart', 'timeseries', 'table', 'scatter plot']"
     ]
    }
   ],
   "source": [
    "Charts(base_url=base_url,\n",
    "         headerAuth=headerAuth).create(slice_name=\"test chart\",\n",
    "                                       viz_type=\"unknown_viz_type\",\n",
    "                                      dashboard_ids=[31],\n",
    "                                        column_names=[\"sales\",\"time\"],\n",
    "                                        excecuted_data_uid=\"table__32\",\n",
    "                                        excecuted_data_id=32,\n",
    "                                        schema='chinook',\n",
    "                                        table_name='new tanle',\n",
    "                                        excecuted_data_type='table',\n",
    "                                        )"
   ]
  }
 ],
 "metadata": {
  "kernelspec": {
   "display_name": ".venv",
   "language": "python",
   "name": "python3"
  },
  "language_info": {
   "codemirror_mode": {
    "name": "ipython",
    "version": 3
   },
   "file_extension": ".py",
   "mimetype": "text/x-python",
   "name": "python",
   "nbconvert_exporter": "python",
   "pygments_lexer": "ipython3",
   "version": "3.11.2"
  }
 },
 "nbformat": 4,
 "nbformat_minor": 2
}
