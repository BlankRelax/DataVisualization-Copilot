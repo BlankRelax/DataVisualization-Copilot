{
 "cells": [
  {
   "cell_type": "markdown",
   "metadata": {},
   "source": [
    "# Supersetapiclient demo - Dashboards"
   ]
  },
  {
   "cell_type": "code",
   "execution_count": 1,
   "metadata": {},
   "outputs": [],
   "source": [
    "import sys\n",
    "sys.path\n",
    "if 'f:\\\\Users\\\\hassa\\\\carecognitics_backend' not in sys.path:\n",
    "    sys.path.append('f:\\\\Users\\\\hassa\\\\carecognitics_backend')"
   ]
  },
  {
   "cell_type": "code",
   "execution_count": 2,
   "metadata": {},
   "outputs": [],
   "source": [
    "from supersetapiclient.dashboards import Dashboards\n",
    "import requests\n",
    "import webbrowser "
   ]
  },
  {
   "cell_type": "markdown",
   "metadata": {},
   "source": [
    "### connecting to superset instance"
   ]
  },
  {
   "cell_type": "code",
   "execution_count": 3,
   "metadata": {},
   "outputs": [],
   "source": [
    "#base_url='http://localhost:8088'\n",
    "base_url='http://13.42.20.254:8088'\n",
    "username='admin'\n",
    "password='admin'\n",
    "payload = {'username':username,\n",
    "                'password':password,\n",
    "                'provider':'db',\n",
    "                'refresh': 'True'\n",
    "                }  \n",
    "# login\n",
    "r = requests.post(base_url + '/api/v1/security/login', json=payload)\n",
    "access_token = r.json()['access_token']\n",
    "refresh_token = r.json()['refresh_token']\n",
    "headerAuth = {'Authorization':'Bearer ' + access_token}"
   ]
  },
  {
   "cell_type": "markdown",
   "metadata": {},
   "source": [
    "### create dashboard object"
   ]
  },
  {
   "cell_type": "code",
   "execution_count": 5,
   "metadata": {},
   "outputs": [],
   "source": [
    "db=Dashboards(base_url=base_url,\n",
    "          headerAuth=headerAuth)"
   ]
  },
  {
   "cell_type": "code",
   "execution_count": 5,
   "metadata": {},
   "outputs": [
    {
     "data": {
      "text/plain": [
       "{'Slack Dashboard': 7,\n",
       " 'Video Game Sales': 8,\n",
       " 'Sales Dashboard': 9,\n",
       " 'Unicode Test': 10,\n",
       " 'COVID Vaccine Dashboard': 6,\n",
       " 'FCC New Coder Survey 2018': 5,\n",
       " 'Misc Charts': 3,\n",
       " 'USA Births Names': 2,\n",
       " 'new dash': 18,\n",
       " \"World Bank's Data\": 1}"
      ]
     },
     "execution_count": 5,
     "metadata": {},
     "output_type": "execute_result"
    }
   ],
   "source": [
    "db.info_all"
   ]
  },
  {
   "cell_type": "code",
   "execution_count": 6,
   "metadata": {},
   "outputs": [],
   "source": [
    "db.create(name=\"new dash\", verbose=True)\n",
    "print(f\"current session dashboards: {db.user_dashboard_ids} \")\n",
    "print(f\"updated dashboards: {db.info_all}\")"
   ]
  },
  {
   "cell_type": "code",
   "execution_count": 7,
   "metadata": {},
   "outputs": [
    {
     "name": "stdout",
     "output_type": "stream",
     "text": [
      "{'message': 'Not found'}\n",
      "dashboard info updated\n",
      "current session dashboards: [] \n",
      "updated dashboards: {'new dash': 18, 'Unicode Test': 10, 'Sales Dashboard': 9, 'Video Game Sales': 8, 'Slack Dashboard': 7, 'COVID Vaccine Dashboard': 6, 'FCC New Coder Survey 2018': 5, 'Misc Charts': 3, 'USA Births Names': 2, \"World Bank's Data\": 1}\n"
     ]
    }
   ],
   "source": [
    "# change dashboard to delete to the one just created\n",
    "db.delete(dashboards=4, verbose=True)\n",
    "print(f\"current session dashboards: {db.user_dashboard_ids} \")\n",
    "print(f\"updated dashboards: {db.info_all}\")"
   ]
  },
  {
   "cell_type": "code",
   "execution_count": 8,
   "metadata": {},
   "outputs": [
    {
     "name": "stdout",
     "output_type": "stream",
     "text": [
      "<Response [200]> {'result': {'certification_details': None, 'certified_by': None, 'changed_by': None, 'changed_by_name': '', 'changed_on': '2024-06-05T17:17:43.667271', 'changed_on_delta_humanized': '15 hours ago', 'charts': [\"World's Population\", 'Most Populated Countries', 'Growth Rate', '% Rural', 'Life Expectancy VS Rural %', 'Rural Breakdown', \"World's Pop Growth\", 'Box plot', 'Treemap'], 'css': None, 'dashboard_title': \"World Bank's Data\", 'id': 1, 'is_managed_externally': False, 'json_metadata': None, 'owners': [], 'position_json': '{\\n    \"CHART-37982887\": {\\n        \"children\": [],\\n        \"id\": \"CHART-37982887\",\\n        \"meta\": {\\n            \"chartId\": 970,\\n            \"height\": 52,\\n            \"sliceName\": \"World\\'s Population\",\\n            \"width\": 2,\\n            \"uuid\": \"e46e4497-2afe-41ac-a5e5-391330439711\"\\n        },\\n        \"type\": \"CHART\"\\n    },\\n    \"CHART-17e0f8d8\": {\\n        \"children\": [],\\n        \"id\": \"CHART-17e0f8d8\",\\n        \"meta\": {\\n            \"chartId\": 971,\\n            \"height\": 92,\\n            \"sliceName\": \"Most Populated Countries\",\\n            \"width\": 3,\\n            \"uuid\": \"c5e159c1-6461-4276-ad51-2e094c1500f2\"\\n        },\\n        \"type\": \"CHART\"\\n    },\\n    \"CHART-2ee52f30\": {\\n        \"children\": [],\\n        \"id\": \"CHART-2ee52f30\",\\n        \"meta\": {\\n            \"chartId\": 972,\\n            \"height\": 38,\\n            \"sliceName\": \"Growth Rate\",\\n            \"width\": 6,\\n            \"uuid\": \"5ef6cfab-d3ca-4ac3-b9a4-576fd762eda6\"\\n        },\\n        \"type\": \"CHART\"\\n    },\\n    \"CHART-2d5b6871\": {\\n        \"children\": [],\\n        \"id\": \"CHART-2d5b6871\",\\n        \"meta\": {\\n            \"chartId\": 973,\\n            \"height\": 52,\\n            \"sliceName\": \"% Rural\",\\n            \"width\": 7,\\n            \"uuid\": \"a368492e-feda-4c03-9780-ba9133b1456c\"\\n        },\\n        \"type\": \"CHART\"\\n    },\\n    \"CHART-0fd0d252\": {\\n        \"children\": [],\\n        \"id\": \"CHART-0fd0d252\",\\n        \"meta\": {\\n            \"chartId\": 974,\\n            \"height\": 50,\\n            \"sliceName\": \"Life Expectancy VS Rural %\",\\n            \"width\": 8,\\n            \"uuid\": \"7a69c35b-621d-402e-9498-a1dd27aed104\"\\n        },\\n        \"type\": \"CHART\"\\n    },\\n    \"CHART-97f4cb48\": {\\n        \"children\": [],\\n        \"id\": \"CHART-97f4cb48\",\\n        \"meta\": {\\n            \"chartId\": 975,\\n            \"height\": 38,\\n            \"sliceName\": \"Rural Breakdown\",\\n            \"width\": 3,\\n            \"uuid\": \"14c4f1d9-1c15-4ef6-aa77-7475f50ce76f\"\\n        },\\n        \"type\": \"CHART\"\\n    },\\n    \"CHART-b5e05d6f\": {\\n        \"children\": [],\\n        \"id\": \"CHART-b5e05d6f\",\\n        \"meta\": {\\n            \"chartId\": 976,\\n            \"height\": 50,\\n            \"sliceName\": \"World\\'s Pop Growth\",\\n            \"width\": 4,\\n            \"uuid\": \"0cf73399-4a96-465b-8d2b-ff458a226ce2\"\\n        },\\n        \"type\": \"CHART\"\\n    },\\n    \"CHART-e76e9f5f\": {\\n        \"children\": [],\\n        \"id\": \"CHART-e76e9f5f\",\\n        \"meta\": {\\n            \"chartId\": 977,\\n            \"height\": 50,\\n            \"sliceName\": \"Box plot\",\\n            \"width\": 4,\\n            \"uuid\": \"77db041c-267f-43d2-961d-d90a776e38be\"\\n        },\\n        \"type\": \"CHART\"\\n    },\\n    \"CHART-a4808bba\": {\\n        \"children\": [],\\n        \"id\": \"CHART-a4808bba\",\\n        \"meta\": {\\n            \"chartId\": 978,\\n            \"height\": 50,\\n            \"sliceName\": \"Treemap\",\\n            \"width\": 8,\\n            \"uuid\": \"3aa51d69-f12d-42ae-a7b1-93b9e90092ac\"\\n        },\\n        \"type\": \"CHART\"\\n    },\\n    \"COLUMN-071bbbad\": {\\n        \"children\": [\\n            \"ROW-1e064e3c\",\\n            \"ROW-afdefba9\"\\n        ],\\n        \"id\": \"COLUMN-071bbbad\",\\n        \"meta\": {\\n            \"background\": \"BACKGROUND_TRANSPARENT\",\\n            \"width\": 9\\n        },\\n        \"type\": \"COLUMN\"\\n    },\\n    \"COLUMN-fe3914b8\": {\\n        \"children\": [\\n            \"CHART-37982887\"\\n        ],\\n        \"id\": \"COLUMN-fe3914b8\",\\n        \"meta\": {\\n            \"background\": \"BACKGROUND_TRANSPARENT\",\\n            \"width\": 2\\n        },\\n        \"type\": \"COLUMN\"\\n    },\\n    \"GRID_ID\": {\\n        \"children\": [\\n            \"ROW-46632bc2\",\\n            \"ROW-3fa26c5d\",\\n            \"ROW-812b3f13\"\\n        ],\\n        \"id\": \"GRID_ID\",\\n        \"type\": \"GRID\"\\n    },\\n    \"HEADER_ID\": {\\n        \"id\": \"HEADER_ID\",\\n        \"meta\": {\\n            \"text\": \"World\\'s Bank Data\"\\n        },\\n        \"type\": \"HEADER\"\\n    },\\n    \"ROOT_ID\": {\\n        \"children\": [\\n            \"GRID_ID\"\\n        ],\\n        \"id\": \"ROOT_ID\",\\n        \"type\": \"ROOT\"\\n    },\\n    \"ROW-1e064e3c\": {\\n        \"children\": [\\n            \"COLUMN-fe3914b8\",\\n            \"CHART-2d5b6871\"\\n        ],\\n        \"id\": \"ROW-1e064e3c\",\\n        \"meta\": {\\n            \"background\": \"BACKGROUND_TRANSPARENT\"\\n        },\\n        \"type\": \"ROW\"\\n    },\\n    \"ROW-3fa26c5d\": {\\n        \"children\": [\\n            \"CHART-b5e05d6f\",\\n            \"CHART-0fd0d252\"\\n        ],\\n        \"id\": \"ROW-3fa26c5d\",\\n        \"meta\": {\\n            \"background\": \"BACKGROUND_TRANSPARENT\"\\n        },\\n        \"type\": \"ROW\"\\n    },\\n    \"ROW-46632bc2\": {\\n        \"children\": [\\n            \"COLUMN-071bbbad\",\\n            \"CHART-17e0f8d8\"\\n        ],\\n        \"id\": \"ROW-46632bc2\",\\n        \"meta\": {\\n            \"background\": \"BACKGROUND_TRANSPARENT\"\\n        },\\n        \"type\": \"ROW\"\\n    },\\n    \"ROW-812b3f13\": {\\n        \"children\": [\\n            \"CHART-a4808bba\",\\n            \"CHART-e76e9f5f\"\\n        ],\\n        \"id\": \"ROW-812b3f13\",\\n        \"meta\": {\\n            \"background\": \"BACKGROUND_TRANSPARENT\"\\n        },\\n        \"type\": \"ROW\"\\n    },\\n    \"ROW-afdefba9\": {\\n        \"children\": [\\n            \"CHART-2ee52f30\",\\n            \"CHART-97f4cb48\"\\n        ],\\n        \"id\": \"ROW-afdefba9\",\\n        \"meta\": {\\n            \"background\": \"BACKGROUND_TRANSPARENT\"\\n        },\\n        \"type\": \"ROW\"\\n    },\\n    \"DASHBOARD_VERSION_KEY\": \"v2\"\\n}', 'published': True, 'roles': [], 'slug': 'world_health', 'tags': [], 'thumbnail_url': '/api/v1/dashboard/1/thumbnail/fa1f6e634360ba7ce12c84f98b5e217e/', 'url': '/superset/dashboard/world_health/'}}\n"
     ]
    },
    {
     "data": {
      "text/plain": [
       "{'id': 1,\n",
       " 'charts': [\"World's Population\",\n",
       "  'Most Populated Countries',\n",
       "  'Growth Rate',\n",
       "  '% Rural',\n",
       "  'Life Expectancy VS Rural %',\n",
       "  'Rural Breakdown',\n",
       "  \"World's Pop Growth\",\n",
       "  'Box plot',\n",
       "  'Treemap'],\n",
       " 'title': \"World Bank's Data\"}"
      ]
     },
     "execution_count": 8,
     "metadata": {},
     "output_type": "execute_result"
    }
   ],
   "source": [
    "db.info(id=1, verbose=False)"
   ]
  },
  {
   "cell_type": "markdown",
   "metadata": {},
   "source": [
    "### opening dashboard into iframe"
   ]
  },
  {
   "cell_type": "code",
   "execution_count": null,
   "metadata": {},
   "outputs": [
    {
     "data": {
      "text/plain": [
       "'None/superset/dashboard/p/pEeVbo6raR9/'"
      ]
     },
     "execution_count": 7,
     "metadata": {},
     "output_type": "execute_result"
    }
   ],
   "source": [
    "\n",
    "current_permalink=db.get_permalink(5)\n",
    "current_permalink\n"
   ]
  },
  {
   "cell_type": "code",
   "execution_count": 10,
   "metadata": {},
   "outputs": [],
   "source": [
    "link = db.get_link(18)"
   ]
  },
  {
   "cell_type": "code",
   "execution_count": 11,
   "metadata": {},
   "outputs": [
    {
     "data": {
      "text/plain": [
       "True"
      ]
     },
     "execution_count": 11,
     "metadata": {},
     "output_type": "execute_result"
    }
   ],
   "source": [
    "html_direc = 'f:\\\\Users\\\\hassa\\\\carecognitics_backend\\\\CareCognetics\\\\embed\\\\index.html'\n",
    "Func=open(html_direc,'w')\n",
    "Func.write(f'<iframe src={link} height=\"90%\" width=\"67%\" title=\"Iframe Example\"></iframe>')\n",
    "Func.close()\n",
    "webbrowser.open_new_tab(html_direc) "
   ]
  },
  {
   "cell_type": "markdown",
   "metadata": {},
   "source": [
    "### embedding sdk "
   ]
  },
  {
   "cell_type": "code",
   "execution_count": 6,
   "metadata": {},
   "outputs": [
    {
     "data": {
      "text/plain": [
       "'dashboard successfully deleted'"
      ]
     },
     "execution_count": 6,
     "metadata": {},
     "output_type": "execute_result"
    }
   ],
   "source": [
    "db.delete_embed(id=9)"
   ]
  },
  {
   "cell_type": "code",
   "execution_count": 7,
   "metadata": {},
   "outputs": [
    {
     "name": "stdout",
     "output_type": "stream",
     "text": [
      "<Response [200]>\n"
     ]
    },
    {
     "data": {
      "text/plain": [
       "'63f84014-2324-4b55-b781-b4735f137b6f'"
      ]
     },
     "execution_count": 7,
     "metadata": {},
     "output_type": "execute_result"
    }
   ],
   "source": [
    "db.post_embed(id=9,allowed_domains=[\"http://13.42.20.254/\"],verbose=True)"
   ]
  },
  {
   "cell_type": "code",
   "execution_count": 8,
   "metadata": {},
   "outputs": [
    {
     "name": "stdout",
     "output_type": "stream",
     "text": [
      "<Response [200]>\n"
     ]
    },
    {
     "data": {
      "text/plain": [
       "'63f84014-2324-4b55-b781-b4735f137b6f'"
      ]
     },
     "execution_count": 8,
     "metadata": {},
     "output_type": "execute_result"
    }
   ],
   "source": [
    "db.get_embed(id=9,verbose=True)"
   ]
  },
  {
   "cell_type": "code",
   "execution_count": 9,
   "metadata": {},
   "outputs": [
    {
     "name": "stdout",
     "output_type": "stream",
     "text": [
      "<Response [200]>\n"
     ]
    },
    {
     "data": {
      "text/plain": [
       "'dashboard successfully deleted'"
      ]
     },
     "execution_count": 9,
     "metadata": {},
     "output_type": "execute_result"
    }
   ],
   "source": [
    "db.delete_embed(id=9,verbose=True)"
   ]
  },
  {
   "cell_type": "code",
   "execution_count": 10,
   "metadata": {},
   "outputs": [
    {
     "name": "stdout",
     "output_type": "stream",
     "text": [
      "<Response [404]>\n",
      "dashboard doesnt exist (as expected)\n"
     ]
    }
   ],
   "source": [
    "try:\n",
    "    db.get_embed(id=9, verbose=True)\n",
    "except KeyError:\n",
    "    print('dashboard doesnt exist (as expected)')"
   ]
  },
  {
   "cell_type": "markdown",
   "metadata": {},
   "source": [
    "### adding charts into dashboard"
   ]
  },
  {
   "cell_type": "code",
   "execution_count": null,
   "metadata": {},
   "outputs": [],
   "source": []
  }
 ],
 "metadata": {
  "kernelspec": {
   "display_name": ".venv",
   "language": "python",
   "name": "python3"
  },
  "language_info": {
   "codemirror_mode": {
    "name": "ipython",
    "version": 3
   },
   "file_extension": ".py",
   "mimetype": "text/x-python",
   "name": "python",
   "nbconvert_exporter": "python",
   "pygments_lexer": "ipython3",
   "version": "3.11.2"
  }
 },
 "nbformat": 4,
 "nbformat_minor": 2
}
