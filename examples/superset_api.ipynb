{
 "cells": [
  {
   "cell_type": "code",
   "execution_count": 1,
   "metadata": {},
   "outputs": [],
   "source": [
    "import sys\n",
    "sys.path\n",
    "if 'f:\\\\Users\\\\hassa\\\\carecognitics_backend' not in sys.path:\n",
    "    sys.path.append('f:\\\\Users\\\\hassa\\\\carecognitics_backend')"
   ]
  },
  {
   "cell_type": "code",
   "execution_count": 2,
   "metadata": {},
   "outputs": [],
   "source": [
    "from MVP.superset_api import PostChart\n",
    "import requests"
   ]
  },
  {
   "cell_type": "code",
   "execution_count": 3,
   "metadata": {},
   "outputs": [],
   "source": [
    "base_url = 'http://localhost:8088'\n",
    "payload = {'username':'admin',\n",
    "           'password':'admin',\n",
    "           'provider':'db',\n",
    "           'refresh': 'True'\n",
    "           }\n",
    "r = requests.post(base_url + '/api/v1/security/login', json=payload)\n",
    "access_token = r.json()['access_token']\n",
    "refresh_token = r.json()['refresh_token']\n",
    "headersAuth = {'Authorization':'Bearer ' + access_token}"
   ]
  },
  {
   "cell_type": "code",
   "execution_count": 4,
   "metadata": {},
   "outputs": [],
   "source": [
    "pc=PostChart(base_url=base_url,\n",
    "          headerAuth=headersAuth)"
   ]
  },
  {
   "cell_type": "code",
   "execution_count": 5,
   "metadata": {},
   "outputs": [
    {
     "name": "stdout",
     "output_type": "stream",
     "text": [
      "dataset has been created with name 1\n"
     ]
    }
   ],
   "source": [
    "sql = \"SELECT billing_country, total FROM invoice\"\n",
    "pc.create_dataset_sql(sql=sql)"
   ]
  },
  {
   "cell_type": "code",
   "execution_count": 6,
   "metadata": {},
   "outputs": [
    {
     "data": {
      "text/plain": [
       "{'id': 492,\n",
       " 'result': {'cache_timeout': None,\n",
       "  'certification_details': None,\n",
       "  'certified_by': None,\n",
       "  'dashboards': [],\n",
       "  'datasource_id': 33,\n",
       "  'datasource_name': 'public.dataset_1',\n",
       "  'datasource_type': 'table',\n",
       "  'description': 'null',\n",
       "  'params': '{\"datasource\": \"33__table\", \"viz_type\": \"echarts_timeseries_bar\", \"x_axis\": \"billing_country\", \"time_grain_sqla\": \"P1D\", \"x_axis_sort_asc\": true, \"x_axis_sort_series\": \"name\", \"x_axis_sort_series_ascending\": true, \"metrics\": [\"count\"], \"groupby\": [], \"adhoc_filters\": [], \"order_desc\": true, \"row_limit\": 10000, \"truncate_metric\": true, \"show_empty_columns\": true, \"comparison_type\": \"values\", \"annotation_layers\": [], \"forecastPeriods\": 10, \"forecastInterval\": 0.8, \"orientation\": \"vertical\", \"x_axis_title_margin\": 15, \"y_axis_title_margin\": 15, \"y_axis_title_position\": \"Left\", \"sort_series_type\": \"sum\", \"color_scheme\": \"supersetColors\", \"only_total\": true, \"show_legend\": true, \"legendType\": \"scroll\", \"legendOrientation\": \"top\", \"x_axis_time_format\": \"smart_date\", \"y_axis_format\": \"SMART_NUMBER\", \"truncateXAxis\": true, \"y_axis_bounds\": [null, null], \"rich_tooltip\": true, \"tooltipTimeFormat\": \"smart_date\", \"extra_form_data\": {}, \"dashboards\": []}',\n",
       "  'slice_name': ' slice by class',\n",
       "  'viz_type': 'echarts_timeseries_bar'}}"
      ]
     },
     "execution_count": 6,
     "metadata": {},
     "output_type": "execute_result"
    }
   ],
   "source": [
    "pc.request_post_chart(slice_name=\" slice by class\")"
   ]
  }
 ],
 "metadata": {
  "kernelspec": {
   "display_name": ".venv",
   "language": "python",
   "name": "python3"
  },
  "language_info": {
   "codemirror_mode": {
    "name": "ipython",
    "version": 3
   },
   "file_extension": ".py",
   "mimetype": "text/x-python",
   "name": "python",
   "nbconvert_exporter": "python",
   "pygments_lexer": "ipython3",
   "version": "3.11.2"
  }
 },
 "nbformat": 4,
 "nbformat_minor": 2
}
