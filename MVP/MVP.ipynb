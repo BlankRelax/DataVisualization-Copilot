{
 "cells": [
  {
   "cell_type": "markdown",
   "metadata": {},
   "source": [
    "# Care Copilot MVP\n",
    "\n",
    "## Key Features\n",
    "- User prompt -> chart creation\n",
    "- Automatic (LLM generated) or manual chart type and names (currently only bar charts and pie charts)\n",
    "\n",
    "## Future Improvements\n",
    "- Better object creation workflow\n",
    "- Error reporting features\n",
    "- create a more fluid flow - i.e feedback between different layers of the program"
   ]
  },
  {
   "cell_type": "code",
   "execution_count": 1,
   "metadata": {},
   "outputs": [],
   "source": [
    "import sys\n",
    "sys.path\n",
    "if 'f:\\\\Users\\\\hassa\\\\carecognitics_backend' not in sys.path:\n",
    "    sys.path.append('f:\\\\Users\\\\hassa\\\\carecognitics_backend')"
   ]
  },
  {
   "cell_type": "code",
   "execution_count": 2,
   "metadata": {},
   "outputs": [],
   "source": [
    "from supersetapiclient.client import SupersetAPIClient\n",
    "from security.nl_dml_security_layer import NL_SECURITY_LAYER\n",
    "from llm.sql_generator import invoke_full_chain\n",
    "from visualization_recommendation_system.visual_recommender import visual_recommender \n",
    "\n"
   ]
  },
  {
   "cell_type": "markdown",
   "metadata": {},
   "source": [
    "## manual dashbaord buliding using charts workflow"
   ]
  },
  {
   "cell_type": "code",
   "execution_count": 3,
   "metadata": {},
   "outputs": [],
   "source": [
    "sc=SupersetAPIClient(base_url='http://localhost:8088',\n",
    "                     username='admin',\n",
    "                     password='admin')"
   ]
  },
  {
   "cell_type": "markdown",
   "metadata": {},
   "source": [
    "### create new dashboard (optional)"
   ]
  },
  {
   "cell_type": "code",
   "execution_count": 4,
   "metadata": {},
   "outputs": [],
   "source": [
    "# initiate new dashboard to add future charts to\n",
    "sc.create_dashboard(name='Global Track sales Deep Dive')"
   ]
  },
  {
   "cell_type": "markdown",
   "metadata": {},
   "source": [
    "### NL input"
   ]
  },
  {
   "cell_type": "code",
   "execution_count": 5,
   "metadata": {},
   "outputs": [],
   "source": [
    "input=\"list the top 5 countries with the greatest amount of spending on tracks\"\n",
    "cleaner =NL_SECURITY_LAYER(input)\n",
    "protection_output = cleaner.protect_input()\n",
    "\n",
    "if not protection_output:\n",
    "    final_output=invoke_full_chain(input)\n",
    "else:\n",
    "    print(protection_output)"
   ]
  },
  {
   "cell_type": "code",
   "execution_count": 6,
   "metadata": {},
   "outputs": [],
   "source": [
    "sql_query, dataset_name, chart_type, viz_type, slice_name = final_output"
   ]
  },
  {
   "cell_type": "code",
   "execution_count": 7,
   "metadata": {},
   "outputs": [
    {
     "name": "stdout",
     "output_type": "stream",
     "text": [
      " query: SELECT billing_country, SUM(total) AS total_spending FROM invoice GROUP BY billing_country ORDER BY total_spending DESC LIMIT 5;\n",
      "------------------------------\n",
      " dataset_name: Top_Spending_Countries\n",
      "------------------------------\n",
      "chart type: Bar Chart\n",
      "------------------------------\n",
      "viz_type: echarts_timeseries_bar\n",
      "------------------------------\n",
      "slice_name: Top 5 Spending Countries\n",
      "------------------------------\n"
     ]
    }
   ],
   "source": [
    "print(f\" query: {sql_query}\\n------------------------------\")\n",
    "print(f\" dataset_name: {dataset_name}\\n------------------------------\")\n",
    "print(f\"chart type: {chart_type}\\n------------------------------\")\n",
    "print(f\"viz_type: {viz_type}\\n------------------------------\")\n",
    "print(f\"slice_name: {slice_name}\\n------------------------------\")"
   ]
  },
  {
   "cell_type": "markdown",
   "metadata": {},
   "source": [
    "### create new dataset from LLM generated SQL"
   ]
  },
  {
   "cell_type": "code",
   "execution_count": 8,
   "metadata": {},
   "outputs": [
    {
     "name": "stdout",
     "output_type": "stream",
     "text": [
      "dataset has been created with name Top_Spending_Countries\n"
     ]
    }
   ],
   "source": [
    "sc.create_dataset(sql=sql_query, table_name=dataset_name)\n"
   ]
  },
  {
   "cell_type": "markdown",
   "metadata": {},
   "source": [
    "### choose a chart type manually (optional)"
   ]
  },
  {
   "cell_type": "code",
   "execution_count": 9,
   "metadata": {},
   "outputs": [],
   "source": [
    "vr = visual_recommender()"
   ]
  },
  {
   "cell_type": "code",
   "execution_count": 10,
   "metadata": {},
   "outputs": [
    {
     "data": {
      "text/plain": [
       "{'agg': 'SUM', 'agg_by': 'total', 'groupby': 'billing_country'}"
      ]
     },
     "execution_count": 10,
     "metadata": {},
     "output_type": "execute_result"
    }
   ],
   "source": [
    "feature_dict=vr.parse_sql(sql=sql_query)\n",
    "feature_dict"
   ]
  },
  {
   "cell_type": "code",
   "execution_count": 9,
   "metadata": {},
   "outputs": [],
   "source": [
    "# viz_type=vr.generate_visual_recommendations(sql=sql_query, return_type='best')"
   ]
  },
  {
   "cell_type": "markdown",
   "metadata": {},
   "source": [
    "### create the chart"
   ]
  },
  {
   "cell_type": "code",
   "execution_count": 11,
   "metadata": {},
   "outputs": [],
   "source": [
    "sc.create_chart(slice_name=slice_name,\n",
    "                       viz_type=viz_type,\n",
    "                       dashboard_ids=None)"
   ]
  },
  {
   "cell_type": "markdown",
   "metadata": {},
   "source": [
    "### repeat for different inputs - QUESTION 2"
   ]
  },
  {
   "cell_type": "code",
   "execution_count": 12,
   "metadata": {},
   "outputs": [
    {
     "name": "stdout",
     "output_type": "stream",
     "text": [
      "('SELECT billing_state AS \"State\", SUM(total) AS \"Total Spending\" FROM invoice WHERE billing_country = \\'USA\\' GROUP BY billing_state ORDER BY SUM(total) DESC LIMIT 5;', 'usa_spending_by_state', 'Pie Chart', 'pie', 'The Big Spenders: Top 5 Spending States in the USA')\n"
     ]
    }
   ],
   "source": [
    "input=\"fetch the data to make a pie chart for most top 5 most spending states in the USA\"\n",
    "cleaner =NL_SECURITY_LAYER(input)\n",
    "protection_output = cleaner.protect_input()\n",
    "\n",
    "if not protection_output:\n",
    "    final_output_1=invoke_full_chain(input)\n",
    "    final_output_1\n",
    "else:\n",
    "    print(protection_output)"
   ]
  },
  {
   "cell_type": "code",
   "execution_count": 14,
   "metadata": {},
   "outputs": [
    {
     "name": "stdout",
     "output_type": "stream",
     "text": [
      " query: SELECT billing_state AS \"State\", SUM(total) AS \"Total Spending\" FROM invoice WHERE billing_country = 'USA' GROUP BY billing_state ORDER BY SUM(total) DESC LIMIT 5;\n",
      "------------------------------\n",
      " dataset_name: usa_spending_by_state\n",
      "------------------------------\n",
      "chart type: Pie Chart\n",
      "------------------------------\n",
      "viz_type: pie\n",
      "------------------------------\n",
      "slice_name: The Big Spenders: Top 5 Spending States in the USA\n",
      "------------------------------\n"
     ]
    }
   ],
   "source": [
    "sql_query_1, dataset_name_1, chart_type_1, viz_type_1, slice_name_1 = final_output_1\n",
    "print(f\" query: {sql_query_1}\\n------------------------------\")\n",
    "print(f\" dataset_name: {dataset_name_1}\\n------------------------------\")\n",
    "print(f\"chart type: {chart_type_1}\\n------------------------------\")\n",
    "print(f\"viz_type: {viz_type_1}\\n------------------------------\")\n",
    "print(f\"slice_name: {slice_name_1}\\n------------------------------\")"
   ]
  },
  {
   "cell_type": "code",
   "execution_count": 16,
   "metadata": {},
   "outputs": [
    {
     "name": "stdout",
     "output_type": "stream",
     "text": [
      "dataset has been created with name usa_spending_by_state\n"
     ]
    }
   ],
   "source": [
    "sc.create_dataset(sql=sql_query_1, table_name=dataset_name_1)"
   ]
  },
  {
   "cell_type": "code",
   "execution_count": 13,
   "metadata": {},
   "outputs": [],
   "source": [
    "vr = visual_recommender()"
   ]
  },
  {
   "cell_type": "code",
   "execution_count": 14,
   "metadata": {},
   "outputs": [
    {
     "data": {
      "text/plain": [
       "{'agg': 'COUNT', 'agg_by': '*', 'groupby': 'billing_city;'}"
      ]
     },
     "execution_count": 14,
     "metadata": {},
     "output_type": "execute_result"
    }
   ],
   "source": [
    "feature_dict=vr.parse_sql(sql_query_1)\n",
    "feature_dict"
   ]
  },
  {
   "cell_type": "code",
   "execution_count": 15,
   "metadata": {},
   "outputs": [],
   "source": [
    "# viz_type=vr.generate_visual_recommendations(sql=sql_query_1, return_type='best')"
   ]
  },
  {
   "cell_type": "code",
   "execution_count": 18,
   "metadata": {},
   "outputs": [],
   "source": [
    "sc.create_chart(slice_name=slice_name_1,\n",
    "                       viz_type=viz_type_1,\n",
    "                       dashboard_ids=None)"
   ]
  },
  {
   "cell_type": "markdown",
   "metadata": {},
   "source": [
    "### Question 3"
   ]
  },
  {
   "cell_type": "code",
   "execution_count": 27,
   "metadata": {},
   "outputs": [],
   "source": [
    "input=\"fetch the data to make a bar chart for the most popular genres in the USA\"\n",
    "cleaner =NL_SECURITY_LAYER(input)\n",
    "protection_output = cleaner.protect_input()\n",
    "\n",
    "if not protection_output:\n",
    "    final_output_2=invoke_full_chain(input)\n",
    "    final_output_2\n",
    "else:\n",
    "    print(protection_output)"
   ]
  },
  {
   "cell_type": "code",
   "execution_count": 28,
   "metadata": {},
   "outputs": [
    {
     "name": "stdout",
     "output_type": "stream",
     "text": [
      " query: SELECT g.name AS Genre, COUNT(*) AS Track_Count FROM track AS t JOIN invoice_line AS il ON t.track_id = il.track_id JOIN invoice AS i ON il.invoice_id = i.invoice_id JOIN genre AS g ON t.genre_id = g.genre_id WHERE i.billing_country = 'USA' GROUP BY g.name ORDER BY Track_Count DESC LIMIT 3;\n",
      "------------------------------\n",
      " dataset_name: Music_Genre_Popularity_USA\n",
      "------------------------------\n",
      "chart type: Bar Chart\n",
      "------------------------------\n",
      "viz_type: echarts_timeseries_bar\n",
      "------------------------------\n",
      "slice_name: Popularity of Music Genres in the USA\n",
      "------------------------------\n"
     ]
    }
   ],
   "source": [
    "sql_query_2, dataset_name_2, chart_type_2, viz_type_2, slice_name_2 = final_output_2\n",
    "print(f\" query: {sql_query_2}\\n------------------------------\")\n",
    "print(f\" dataset_name: {dataset_name_2}\\n------------------------------\")\n",
    "print(f\"chart type: {chart_type_2}\\n------------------------------\")\n",
    "print(f\"viz_type: {viz_type_2}\\n------------------------------\")\n",
    "print(f\"slice_name: {slice_name_2}\\n------------------------------\")"
   ]
  },
  {
   "cell_type": "code",
   "execution_count": 29,
   "metadata": {},
   "outputs": [
    {
     "name": "stdout",
     "output_type": "stream",
     "text": [
      "dataset has been created with name Music_Genre_Popularity_USA\n"
     ]
    }
   ],
   "source": [
    "sc.create_dataset(sql=sql_query_2, table_name=dataset_name_2)"
   ]
  },
  {
   "cell_type": "code",
   "execution_count": 31,
   "metadata": {},
   "outputs": [],
   "source": [
    "sc.create_chart(slice_name=slice_name_2,\n",
    "                       viz_type=viz_type_2,\n",
    "                       dashboard_ids=[20])"
   ]
  },
  {
   "cell_type": "markdown",
   "metadata": {},
   "source": [
    "### Question 4"
   ]
  },
  {
   "cell_type": "code",
   "execution_count": 8,
   "metadata": {},
   "outputs": [],
   "source": [
    "input=\"make me a pie chart on top spenders on rock music in CA, only return two columns, customer_name and total_spent\"\n",
    "cleaner =NL_SECURITY_LAYER(input)\n",
    "protection_output = cleaner.protect_input()\n",
    "\n",
    "if not protection_output:\n",
    "    final_output_3=invoke_full_chain(input)\n",
    "    final_output_3\n",
    "else:\n",
    "    print(protection_output)"
   ]
  },
  {
   "cell_type": "code",
   "execution_count": 9,
   "metadata": {},
   "outputs": [
    {
     "name": "stdout",
     "output_type": "stream",
     "text": [
      " query: SELECT c.first_name || ' ' || c.last_name AS customer_name, SUM(i.total) AS total_spent FROM customer c JOIN invoice i ON c.customer_id = i.customer_id JOIN invoice_line il ON i.invoice_id = il.invoice_id JOIN track t ON il.track_id = t.track_id JOIN genre g ON t.genre_id = g.genre_id WHERE c.state = 'CA' AND g.name = 'Rock' GROUP BY c.customer_id, customer_name ORDER BY total_spent DESC LIMIT 5;\n",
      "------------------------------\n",
      " dataset_name: ca_rock_music_spenders\n",
      "------------------------------\n",
      "chart type: Pie Chart\n",
      "------------------------------\n",
      "viz_type: pie\n",
      "------------------------------\n",
      "slice_name: Top 5 Spenders on Rock Music in California\n",
      "------------------------------\n"
     ]
    }
   ],
   "source": [
    "sql_query_3, dataset_name_3, chart_type_3, viz_type_3, slice_name_3 = final_output_3\n",
    "print(f\" query: {sql_query_3}\\n------------------------------\")\n",
    "print(f\" dataset_name: {dataset_name_3}\\n------------------------------\")\n",
    "print(f\"chart type: {chart_type_3}\\n------------------------------\")\n",
    "print(f\"viz_type: {viz_type_3}\\n------------------------------\")\n",
    "print(f\"slice_name: {slice_name_3}\\n------------------------------\")"
   ]
  },
  {
   "cell_type": "code",
   "execution_count": 11,
   "metadata": {},
   "outputs": [
    {
     "name": "stdout",
     "output_type": "stream",
     "text": [
      "dataset has been created with name ca_rock_music_spenders\n"
     ]
    }
   ],
   "source": [
    "sc.create_dataset(sql=sql_query_3, table_name=dataset_name_3)"
   ]
  },
  {
   "cell_type": "code",
   "execution_count": 12,
   "metadata": {},
   "outputs": [],
   "source": [
    "sc.create_chart(slice_name=slice_name_3,\n",
    "                       viz_type=viz_type_3,\n",
    "                       dashboard_ids=[20])"
   ]
  }
 ],
 "metadata": {
  "kernelspec": {
   "display_name": ".venv",
   "language": "python",
   "name": "python3"
  },
  "language_info": {
   "codemirror_mode": {
    "name": "ipython",
    "version": 3
   },
   "file_extension": ".py",
   "mimetype": "text/x-python",
   "name": "python",
   "nbconvert_exporter": "python",
   "pygments_lexer": "ipython3",
   "version": "3.11.2"
  }
 },
 "nbformat": 4,
 "nbformat_minor": 2
}
