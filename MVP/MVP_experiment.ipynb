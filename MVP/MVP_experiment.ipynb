{
 "cells": [
  {
   "cell_type": "markdown",
   "metadata": {},
   "source": [
    "# Care Copilot MVP\n",
    "\n",
    "## Key Features\n",
    "- User prompt -> chart creation\n",
    "- Automatic (LLM generated) or manual chart type and names (currently only bar charts and pie charts)\n",
    "\n",
    "## Future Improvements\n",
    "- Better object creation workflow\n",
    "- Error reporting features\n",
    "- create a more fluid flow - i.e feedback between different layers of the program"
   ]
  },
  {
   "cell_type": "code",
   "execution_count": 1,
   "metadata": {},
   "outputs": [],
   "source": [
    "import sys\n",
    "sys.path\n",
    "if 'f:\\\\Users\\\\hassa\\\\carecognitics_backend' not in sys.path:\n",
    "    sys.path.append('f:\\\\Users\\\\hassa\\\\carecognitics_backend')"
   ]
  },
  {
   "cell_type": "code",
   "execution_count": 2,
   "metadata": {},
   "outputs": [],
   "source": [
    "from supersetapiclient.client import SupersetAPIClient\n",
    "from security.nl_dml_security_layer import NL_SECURITY_LAYER\n",
    "from llm.sql_generator import invoke_full_chain\n",
    "from visualization_recommendation_system.visual_recommender import visual_recommender \n",
    "\n"
   ]
  },
  {
   "cell_type": "markdown",
   "metadata": {},
   "source": [
    "## manual dashbaord buliding using charts workflow"
   ]
  },
  {
   "cell_type": "code",
   "execution_count": 3,
   "metadata": {},
   "outputs": [],
   "source": [
    "sc=SupersetAPIClient(base_url='http://localhost:8088',\n",
    "                     username='admin',\n",
    "                     password='admin')"
   ]
  },
  {
   "cell_type": "markdown",
   "metadata": {},
   "source": [
    "### create new dashboard (optional)"
   ]
  },
  {
   "cell_type": "code",
   "execution_count": 5,
   "metadata": {},
   "outputs": [],
   "source": [
    "# initiate new dashboard to add future charts to\n",
    "sc.create_dashboard(name='Global Track sales Deep Dive v2')"
   ]
  },
  {
   "cell_type": "markdown",
   "metadata": {},
   "source": [
    "### NL input"
   ]
  },
  {
   "cell_type": "code",
   "execution_count": 6,
   "metadata": {},
   "outputs": [],
   "source": [
    "input=\"make me a pie chart for the top 5 most popular rock artists in the USA\"\n",
    "cleaner =NL_SECURITY_LAYER(input)\n",
    "protection_output = cleaner.protect_input()\n",
    "\n",
    "if not protection_output:\n",
    "    final_output=invoke_full_chain(input)\n",
    "else:\n",
    "    print(protection_output)"
   ]
  },
  {
   "cell_type": "code",
   "execution_count": 7,
   "metadata": {},
   "outputs": [],
   "source": [
    "sql_query, dataset_name, chart_type, viz_type, slice_name = final_output"
   ]
  },
  {
   "cell_type": "code",
   "execution_count": 8,
   "metadata": {},
   "outputs": [
    {
     "name": "stdout",
     "output_type": "stream",
     "text": [
      " query: SELECT a.name AS artist_name, SUM(i.total) AS total_sales FROM artist a JOIN album al ON a.artist_id = al.artist_id JOIN track t ON al.album_id = t.album_id JOIN genre g ON t.genre_id = g.genre_id JOIN invoice_line il ON t.track_id = il.track_id JOIN invoice i ON il.invoice_id = i.invoice_id WHERE g.name = 'Rock' GROUP BY a.name ORDER BY total_sales DESC LIMIT 5;\n",
      "------------------------------\n",
      " dataset_name: Rock_Artists_Sales\n",
      "------------------------------\n",
      "chart type: Pie Chart\n",
      "------------------------------\n",
      "viz_type: pie\n",
      "------------------------------\n",
      "slice_name: Rock Royalty: Top 5 Artists in the USA\n",
      "------------------------------\n"
     ]
    }
   ],
   "source": [
    "print(f\" query: {sql_query}\\n------------------------------\")\n",
    "print(f\" dataset_name: {dataset_name}\\n------------------------------\")\n",
    "print(f\"chart type: {chart_type}\\n------------------------------\")\n",
    "print(f\"viz_type: {viz_type}\\n------------------------------\")\n",
    "print(f\"slice_name: {slice_name}\\n------------------------------\")"
   ]
  },
  {
   "cell_type": "markdown",
   "metadata": {},
   "source": [
    "### create new dataset from LLM generated SQL"
   ]
  },
  {
   "cell_type": "code",
   "execution_count": 9,
   "metadata": {},
   "outputs": [
    {
     "name": "stdout",
     "output_type": "stream",
     "text": [
      "dataset has been created with name Rock_Artists_Sales\n"
     ]
    }
   ],
   "source": [
    "sc.create_dataset(sql=sql_query, table_name=dataset_name)\n"
   ]
  },
  {
   "cell_type": "markdown",
   "metadata": {},
   "source": [
    "### choose a chart type manually (optional)"
   ]
  },
  {
   "cell_type": "code",
   "execution_count": 9,
   "metadata": {},
   "outputs": [],
   "source": [
    "vr = visual_recommender()"
   ]
  },
  {
   "cell_type": "code",
   "execution_count": 10,
   "metadata": {},
   "outputs": [
    {
     "data": {
      "text/plain": [
       "{'agg': 'SUM', 'agg_by': 'total', 'groupby': 'billing_country'}"
      ]
     },
     "execution_count": 10,
     "metadata": {},
     "output_type": "execute_result"
    }
   ],
   "source": [
    "feature_dict=vr.parse_sql(sql=sql_query)\n",
    "feature_dict"
   ]
  },
  {
   "cell_type": "code",
   "execution_count": 9,
   "metadata": {},
   "outputs": [],
   "source": [
    "# viz_type=vr.generate_visual_recommendations(sql=sql_query, return_type='best')"
   ]
  },
  {
   "cell_type": "markdown",
   "metadata": {},
   "source": [
    "### create the chart"
   ]
  },
  {
   "cell_type": "code",
   "execution_count": 10,
   "metadata": {},
   "outputs": [],
   "source": [
    "sc.create_chart(slice_name=slice_name,\n",
    "                       viz_type=viz_type,\n",
    "                       dashboard_ids=None)"
   ]
  },
  {
   "cell_type": "code",
   "execution_count": 11,
   "metadata": {},
   "outputs": [
    {
     "data": {
      "text/plain": [
       "[31]"
      ]
     },
     "execution_count": 11,
     "metadata": {},
     "output_type": "execute_result"
    }
   ],
   "source": [
    "sc.dashboards.user_dashboard_ids"
   ]
  },
  {
   "cell_type": "markdown",
   "metadata": {},
   "source": [
    "### repeat for different inputs "
   ]
  },
  {
   "cell_type": "markdown",
   "metadata": {},
   "source": [
    "#### in this example we get error because UK is not in the dataset so empty data in returned with no columns hence index error"
   ]
  },
  {
   "cell_type": "code",
   "execution_count": 12,
   "metadata": {},
   "outputs": [
    {
     "name": "stdout",
     "output_type": "stream",
     "text": [
      "dataset has been created with name UK_Music_Genre_Sales\n"
     ]
    },
    {
     "ename": "IndexError",
     "evalue": "list index out of range",
     "output_type": "error",
     "traceback": [
      "\u001b[1;31m---------------------------------------------------------------------------\u001b[0m",
      "\u001b[1;31mIndexError\u001b[0m                                Traceback (most recent call last)",
      "Cell \u001b[1;32mIn[12], line 11\u001b[0m\n\u001b[0;32m      9\u001b[0m sql_query, dataset_name, chart_type, viz_type, slice_name \u001b[38;5;241m=\u001b[39m final_output\n\u001b[0;32m     10\u001b[0m sc\u001b[38;5;241m.\u001b[39mcreate_dataset(sql\u001b[38;5;241m=\u001b[39msql_query, table_name\u001b[38;5;241m=\u001b[39mdataset_name)\n\u001b[1;32m---> 11\u001b[0m \u001b[43msc\u001b[49m\u001b[38;5;241;43m.\u001b[39;49m\u001b[43mcreate_chart\u001b[49m\u001b[43m(\u001b[49m\u001b[43mslice_name\u001b[49m\u001b[38;5;241;43m=\u001b[39;49m\u001b[43mslice_name\u001b[49m\u001b[43m,\u001b[49m\n\u001b[0;32m     12\u001b[0m \u001b[43m                       \u001b[49m\u001b[43mviz_type\u001b[49m\u001b[38;5;241;43m=\u001b[39;49m\u001b[43mviz_type\u001b[49m\u001b[43m,\u001b[49m\n\u001b[0;32m     13\u001b[0m \u001b[43m                       \u001b[49m\u001b[43mdashboard_ids\u001b[49m\u001b[38;5;241;43m=\u001b[39;49m\u001b[38;5;28;43;01mNone\u001b[39;49;00m\u001b[43m)\u001b[49m\n",
      "File \u001b[1;32mf:\\Users\\hassa\\carecognitics_backend\\supersetapiclient\\client.py:94\u001b[0m, in \u001b[0;36mSupersetAPIClient.create_chart\u001b[1;34m(self, slice_name, viz_type, dashboard_ids)\u001b[0m\n\u001b[0;32m     91\u001b[0m \u001b[38;5;250m\u001b[39m\u001b[38;5;124;03m\"\"\"create data from previously excecuted sql query\"\"\"\u001b[39;00m\n\u001b[0;32m     93\u001b[0m dashboard_ids \u001b[38;5;241m=\u001b[39m \u001b[38;5;28mself\u001b[39m\u001b[38;5;241m.\u001b[39mdashboards\u001b[38;5;241m.\u001b[39muser_dashboard_ids \u001b[38;5;28;01mif\u001b[39;00m dashboard_ids \u001b[38;5;129;01mis\u001b[39;00m \u001b[38;5;28;01mNone\u001b[39;00m \u001b[38;5;28;01melse\u001b[39;00m dashboard_ids\n\u001b[1;32m---> 94\u001b[0m \u001b[38;5;28;43mself\u001b[39;49m\u001b[38;5;241;43m.\u001b[39;49m\u001b[43mchart\u001b[49m\u001b[38;5;241;43m.\u001b[39;49m\u001b[43mcreate\u001b[49m\u001b[43m(\u001b[49m\u001b[43mslice_name\u001b[49m\u001b[38;5;241;43m=\u001b[39;49m\u001b[43mslice_name\u001b[49m\u001b[43m,\u001b[49m\n\u001b[0;32m     95\u001b[0m \u001b[43m                        \u001b[49m\u001b[43mviz_type\u001b[49m\u001b[38;5;241;43m=\u001b[39;49m\u001b[43mviz_type\u001b[49m\u001b[43m,\u001b[49m\n\u001b[0;32m     96\u001b[0m \u001b[43m                        \u001b[49m\u001b[43mdashboard_ids\u001b[49m\u001b[38;5;241;43m=\u001b[39;49m\u001b[43mdashboard_ids\u001b[49m\u001b[43m,\u001b[49m\n\u001b[0;32m     97\u001b[0m \u001b[43m                        \u001b[49m\u001b[43mcolumn_names\u001b[49m\u001b[38;5;241;43m=\u001b[39;49m\u001b[38;5;28;43mself\u001b[39;49m\u001b[38;5;241;43m.\u001b[39;49m\u001b[43mdataset\u001b[49m\u001b[38;5;241;43m.\u001b[39;49m\u001b[43mcolumn_names\u001b[49m\u001b[43m,\u001b[49m\n\u001b[0;32m     98\u001b[0m \u001b[43m                        \u001b[49m\u001b[43mexcecuted_data_uid\u001b[49m\u001b[38;5;241;43m=\u001b[39;49m\u001b[38;5;28;43mself\u001b[39;49m\u001b[38;5;241;43m.\u001b[39;49m\u001b[43mdataset\u001b[49m\u001b[38;5;241;43m.\u001b[39;49m\u001b[43mexcecuted_data_uid\u001b[49m\u001b[43m,\u001b[49m\n\u001b[0;32m     99\u001b[0m \u001b[43m                        \u001b[49m\u001b[43mexcecuted_data_id\u001b[49m\u001b[38;5;241;43m=\u001b[39;49m\u001b[38;5;28;43mself\u001b[39;49m\u001b[38;5;241;43m.\u001b[39;49m\u001b[43mdataset\u001b[49m\u001b[38;5;241;43m.\u001b[39;49m\u001b[43mexcecuted_data_id\u001b[49m\u001b[43m,\u001b[49m\n\u001b[0;32m    100\u001b[0m \u001b[43m                        \u001b[49m\u001b[43mschema\u001b[49m\u001b[38;5;241;43m=\u001b[39;49m\u001b[38;5;28;43mself\u001b[39;49m\u001b[38;5;241;43m.\u001b[39;49m\u001b[43mdataset\u001b[49m\u001b[38;5;241;43m.\u001b[39;49m\u001b[43mschema\u001b[49m\u001b[43m,\u001b[49m\n\u001b[0;32m    101\u001b[0m \u001b[43m                        \u001b[49m\u001b[43mtable_name\u001b[49m\u001b[38;5;241;43m=\u001b[39;49m\u001b[38;5;28;43mself\u001b[39;49m\u001b[38;5;241;43m.\u001b[39;49m\u001b[43mdataset\u001b[49m\u001b[38;5;241;43m.\u001b[39;49m\u001b[43mtable_name\u001b[49m\u001b[43m,\u001b[49m\n\u001b[0;32m    102\u001b[0m \u001b[43m                        \u001b[49m\u001b[43mexcecuted_data_type\u001b[49m\u001b[38;5;241;43m=\u001b[39;49m\u001b[38;5;28;43mself\u001b[39;49m\u001b[38;5;241;43m.\u001b[39;49m\u001b[43mdataset\u001b[49m\u001b[38;5;241;43m.\u001b[39;49m\u001b[43mexcecuted_data_type\u001b[49m\u001b[43m)\u001b[49m\n",
      "File \u001b[1;32mf:\\Users\\hassa\\carecognitics_backend\\supersetapiclient\\charts.py:225\u001b[0m, in \u001b[0;36mCharts.create\u001b[1;34m(self, slice_name, viz_type, dashboard_ids, column_names, excecuted_data_uid, excecuted_data_id, schema, table_name, excecuted_data_type)\u001b[0m\n\u001b[0;32m    221\u001b[0m     \u001b[38;5;28;01mreturn\u001b[39;00m r\u001b[38;5;241m.\u001b[39mjson()\n\u001b[0;32m    222\u001b[0m \u001b[38;5;28;01melif\u001b[39;00m viz_type \u001b[38;5;241m==\u001b[39m \u001b[38;5;124m\"\u001b[39m\u001b[38;5;124mpie\u001b[39m\u001b[38;5;124m\"\u001b[39m:\n\u001b[0;32m    223\u001b[0m     r\u001b[38;5;241m=\u001b[39mrequests\u001b[38;5;241m.\u001b[39mpost(\u001b[38;5;28mself\u001b[39m\u001b[38;5;241m.\u001b[39m_base_url\u001b[38;5;241m+\u001b[39m\u001b[38;5;124m'\u001b[39m\u001b[38;5;124m/api/v1/chart/\u001b[39m\u001b[38;5;124m'\u001b[39m,\n\u001b[0;32m    224\u001b[0m                     headers\u001b[38;5;241m=\u001b[39m\u001b[38;5;28mself\u001b[39m\u001b[38;5;241m.\u001b[39m_headerAuth,\n\u001b[1;32m--> 225\u001b[0m                     json\u001b[38;5;241m=\u001b[39m\u001b[38;5;28;43mself\u001b[39;49m\u001b[38;5;241;43m.\u001b[39;49m\u001b[43mcreate_pie\u001b[49m\u001b[43m(\u001b[49m\u001b[43mslice_name\u001b[49m\u001b[38;5;241;43m=\u001b[39;49m\u001b[43mslice_name\u001b[49m\u001b[43m,\u001b[49m\n\u001b[0;32m    226\u001b[0m \u001b[43m                    \u001b[49m\u001b[43mdashboard_ids\u001b[49m\u001b[38;5;241;43m=\u001b[39;49m\u001b[43mdashboard_ids\u001b[49m\u001b[43m,\u001b[49m\n\u001b[0;32m    227\u001b[0m \u001b[43m                    \u001b[49m\u001b[43mcolumn_names\u001b[49m\u001b[38;5;241;43m=\u001b[39;49m\u001b[43mcolumn_names\u001b[49m\u001b[43m,\u001b[49m\n\u001b[0;32m    228\u001b[0m \u001b[43m                    \u001b[49m\u001b[43mexcecuted_data_uid\u001b[49m\u001b[38;5;241;43m=\u001b[39;49m\u001b[43mexcecuted_data_uid\u001b[49m\u001b[43m,\u001b[49m\n\u001b[0;32m    229\u001b[0m \u001b[43m                    \u001b[49m\u001b[43mexcecuted_data_id\u001b[49m\u001b[38;5;241;43m=\u001b[39;49m\u001b[43mexcecuted_data_id\u001b[49m\u001b[43m,\u001b[49m\n\u001b[0;32m    230\u001b[0m \u001b[43m                    \u001b[49m\u001b[43mschema\u001b[49m\u001b[38;5;241;43m=\u001b[39;49m\u001b[43mschema\u001b[49m\u001b[43m,\u001b[49m\n\u001b[0;32m    231\u001b[0m \u001b[43m                    \u001b[49m\u001b[43mtable_name\u001b[49m\u001b[38;5;241;43m=\u001b[39;49m\u001b[43mtable_name\u001b[49m\u001b[43m,\u001b[49m\n\u001b[0;32m    232\u001b[0m \u001b[43m                    \u001b[49m\u001b[43mexcecuted_data_type\u001b[49m\u001b[38;5;241;43m=\u001b[39;49m\u001b[43mexcecuted_data_type\u001b[49m\u001b[43m)\u001b[49m)\n\u001b[0;32m    233\u001b[0m     \u001b[38;5;28;01mreturn\u001b[39;00m r\u001b[38;5;241m.\u001b[39mjson()\n",
      "File \u001b[1;32mf:\\Users\\hassa\\carecognitics_backend\\supersetapiclient\\charts.py:160\u001b[0m, in \u001b[0;36mCharts.create_pie\u001b[1;34m(self, slice_name, dashboard_ids, column_names, excecuted_data_uid, excecuted_data_id, schema, table_name, excecuted_data_type, true, false, null)\u001b[0m\n\u001b[0;32m    146\u001b[0m \u001b[38;5;250m\u001b[39m\u001b[38;5;124;03m\"\"\"\u001b[39;00m\n\u001b[0;32m    147\u001b[0m \u001b[38;5;124;03mcreate a \"pie\" schema to create a piechart for API payload\u001b[39;00m\n\u001b[0;32m    148\u001b[0m \n\u001b[1;32m   (...)\u001b[0m\n\u001b[0;32m    153\u001b[0m \u001b[38;5;124;03mjson payload for chart creation\u001b[39;00m\n\u001b[0;32m    154\u001b[0m \u001b[38;5;124;03m\"\"\"\u001b[39;00m\n\u001b[0;32m    156\u001b[0m \u001b[38;5;66;03m# TODO: make \"label\" into a run-time parameter created by the LLM\u001b[39;00m\n\u001b[0;32m    157\u001b[0m \u001b[38;5;66;03m#       make \"slice_name into a run-time parameter created by the LLM\"\u001b[39;00m\n\u001b[0;32m    159\u001b[0m metric\u001b[38;5;241m=\u001b[39m{\u001b[38;5;124m\"\u001b[39m\u001b[38;5;124mexpressionType\u001b[39m\u001b[38;5;124m\"\u001b[39m:\u001b[38;5;124m\"\u001b[39m\u001b[38;5;124mSIMPLE\u001b[39m\u001b[38;5;124m\"\u001b[39m,\u001b[38;5;124m\"\u001b[39m\u001b[38;5;124mcolumn\u001b[39m\u001b[38;5;124m\"\u001b[39m:{\u001b[38;5;124m\"\u001b[39m\u001b[38;5;124madvanced_data_type\u001b[39m\u001b[38;5;124m\"\u001b[39m:null,\u001b[38;5;124m\"\u001b[39m\u001b[38;5;124mcertification_details\u001b[39m\u001b[38;5;124m\"\u001b[39m:null,\u001b[38;5;124m\"\u001b[39m\u001b[38;5;124mcertified_by\u001b[39m\u001b[38;5;124m\"\u001b[39m:null,\n\u001b[1;32m--> 160\u001b[0m         \u001b[38;5;124m\"\u001b[39m\u001b[38;5;124mcolumn_name\u001b[39m\u001b[38;5;124m\"\u001b[39m:\u001b[43mcolumn_names\u001b[49m\u001b[43m[\u001b[49m\u001b[38;5;241;43m1\u001b[39;49m\u001b[43m]\u001b[49m,\u001b[38;5;124m\"\u001b[39m\u001b[38;5;124mdescription\u001b[39m\u001b[38;5;124m\"\u001b[39m:null,\u001b[38;5;124m\"\u001b[39m\u001b[38;5;124mexpression\u001b[39m\u001b[38;5;124m\"\u001b[39m:null,\u001b[38;5;124m\"\u001b[39m\u001b[38;5;124mfilterable\u001b[39m\u001b[38;5;124m\"\u001b[39m:true,\u001b[38;5;124m\"\u001b[39m\u001b[38;5;124mgroupby\u001b[39m\u001b[38;5;124m\"\u001b[39m:true,\u001b[38;5;124m\"\u001b[39m\u001b[38;5;124mid\u001b[39m\u001b[38;5;124m\"\u001b[39m:null,\u001b[38;5;124m\"\u001b[39m\u001b[38;5;124mis_certified\u001b[39m\u001b[38;5;124m\"\u001b[39m:false,\n\u001b[0;32m    161\u001b[0m         \u001b[38;5;124m\"\u001b[39m\u001b[38;5;124mis_dttm\u001b[39m\u001b[38;5;124m\"\u001b[39m:false,\u001b[38;5;124m\"\u001b[39m\u001b[38;5;124mpython_date_format\u001b[39m\u001b[38;5;124m\"\u001b[39m:null,\u001b[38;5;124m\"\u001b[39m\u001b[38;5;124mtype\u001b[39m\u001b[38;5;124m\"\u001b[39m:\u001b[38;5;124m\"\u001b[39m\u001b[38;5;124mDECIMAL\u001b[39m\u001b[38;5;124m\"\u001b[39m,\u001b[38;5;124m\"\u001b[39m\u001b[38;5;124mtype_generic\u001b[39m\u001b[38;5;124m\"\u001b[39m:\u001b[38;5;241m0\u001b[39m,\u001b[38;5;124m\"\u001b[39m\u001b[38;5;124mverbose_name\u001b[39m\u001b[38;5;124m\"\u001b[39m:null,\u001b[38;5;124m\"\u001b[39m\u001b[38;5;124mwarning_markdown\u001b[39m\u001b[38;5;124m\"\u001b[39m:null},\u001b[38;5;124m\"\u001b[39m\u001b[38;5;124maggregate\u001b[39m\u001b[38;5;124m\"\u001b[39m:\u001b[38;5;124m\"\u001b[39m\u001b[38;5;124mSUM\u001b[39m\u001b[38;5;124m\"\u001b[39m,\n\u001b[0;32m    162\u001b[0m         \u001b[38;5;124m\"\u001b[39m\u001b[38;5;124msqlExpression\u001b[39m\u001b[38;5;124m\"\u001b[39m:null,\u001b[38;5;124m\"\u001b[39m\u001b[38;5;124mdatasourceWarning\u001b[39m\u001b[38;5;124m\"\u001b[39m:false,\u001b[38;5;124m\"\u001b[39m\u001b[38;5;124mhasCustomLabel\u001b[39m\u001b[38;5;124m\"\u001b[39m:false,\u001b[38;5;124m\"\u001b[39m\u001b[38;5;124mlabel\u001b[39m\u001b[38;5;124m\"\u001b[39m:null,\u001b[38;5;124m\"\u001b[39m\u001b[38;5;124moptionName\u001b[39m\u001b[38;5;124m\"\u001b[39m:null}\n\u001b[0;32m    164\u001b[0m params\u001b[38;5;241m=\u001b[39m{\u001b[38;5;124m\"\u001b[39m\u001b[38;5;124mdatasource\u001b[39m\u001b[38;5;124m\"\u001b[39m:excecuted_data_uid,\n\u001b[0;32m    165\u001b[0m         \u001b[38;5;124m\"\u001b[39m\u001b[38;5;124mviz_type\u001b[39m\u001b[38;5;124m\"\u001b[39m:\u001b[38;5;124m\"\u001b[39m\u001b[38;5;124mpie\u001b[39m\u001b[38;5;124m\"\u001b[39m,\n\u001b[0;32m    166\u001b[0m         \u001b[38;5;124m\"\u001b[39m\u001b[38;5;124mgroupby\u001b[39m\u001b[38;5;124m\"\u001b[39m:[column_names[\u001b[38;5;241m0\u001b[39m]],\n\u001b[1;32m   (...)\u001b[0m\n\u001b[0;32m    179\u001b[0m         \u001b[38;5;124m\"\u001b[39m\u001b[38;5;124mshow_labels\u001b[39m\u001b[38;5;124m\"\u001b[39m:true,\n\u001b[0;32m    180\u001b[0m         \u001b[38;5;124m\"\u001b[39m\u001b[38;5;124mlabels_outside\u001b[39m\u001b[38;5;124m\"\u001b[39m:true,\u001b[38;5;124m\"\u001b[39m\u001b[38;5;124mouterRadius\u001b[39m\u001b[38;5;124m\"\u001b[39m:\u001b[38;5;241m70\u001b[39m,\u001b[38;5;124m\"\u001b[39m\u001b[38;5;124minnerRadius\u001b[39m\u001b[38;5;124m\"\u001b[39m:\u001b[38;5;241m30\u001b[39m,\u001b[38;5;124m\"\u001b[39m\u001b[38;5;124mextra_form_data\u001b[39m\u001b[38;5;124m\"\u001b[39m:{},\u001b[38;5;124m\"\u001b[39m\u001b[38;5;124mdashboards\u001b[39m\u001b[38;5;124m\"\u001b[39m:[]}\n\u001b[0;32m    182\u001b[0m payload \u001b[38;5;241m=\u001b[39m {\u001b[38;5;124m\"\u001b[39m\u001b[38;5;124mcache_timeout\u001b[39m\u001b[38;5;124m\"\u001b[39m: null,\n\u001b[0;32m    183\u001b[0m         \u001b[38;5;124m\"\u001b[39m\u001b[38;5;124mcertification_details\u001b[39m\u001b[38;5;124m\"\u001b[39m: null,\n\u001b[0;32m    184\u001b[0m         \u001b[38;5;124m\"\u001b[39m\u001b[38;5;124mcertified_by\u001b[39m\u001b[38;5;124m\"\u001b[39m: null,\n\u001b[1;32m   (...)\u001b[0m\n\u001b[0;32m    191\u001b[0m         \u001b[38;5;124m\"\u001b[39m\u001b[38;5;124mslice_name\u001b[39m\u001b[38;5;124m\"\u001b[39m:slice_name,\n\u001b[0;32m    192\u001b[0m         \u001b[38;5;124m\"\u001b[39m\u001b[38;5;124mviz_type\u001b[39m\u001b[38;5;124m\"\u001b[39m:\u001b[38;5;124m\"\u001b[39m\u001b[38;5;124mpie\u001b[39m\u001b[38;5;124m\"\u001b[39m}\n",
      "\u001b[1;31mIndexError\u001b[0m: list index out of range"
     ]
    }
   ],
   "source": [
    "input=\"make me a pie chart for the top 5 most popular genres in the UK\"\n",
    "cleaner =NL_SECURITY_LAYER(input)\n",
    "protection_output = cleaner.protect_input()\n",
    "\n",
    "if not protection_output:\n",
    "    final_output=invoke_full_chain(input)\n",
    "else:\n",
    "    print(protection_output)\n",
    "sql_query, dataset_name, chart_type, viz_type, slice_name = final_output\n",
    "sc.create_dataset(sql=sql_query, table_name=dataset_name)\n",
    "sc.create_chart(slice_name=slice_name,\n",
    "                       viz_type=viz_type,\n",
    "                       dashboard_ids=None)"
   ]
  },
  {
   "cell_type": "code",
   "execution_count": 13,
   "metadata": {},
   "outputs": [
    {
     "data": {
      "text/plain": [
       "\"SELECT genre.name, SUM(invoice_line.quantity) AS total_sales,     (SUM(invoice_line.quantity) / (SELECT SUM(quantity) FROM invoice_line WHERE invoice_id IN (SELECT invoice_id FROM invoice WHERE billing_country = 'UK'))) * 100 AS percentage FROM invoice_line JOIN track ON invoice_line.track_id = track.track_id JOIN genre ON track.genre_id = genre.genre_id JOIN invoice ON invoice_line.invoice_id = invoice.invoice_id WHERE invoice.billing_country = 'UK' GROUP BY genre.genre_id ORDER BY total_sales DESC LIMIT 5;\""
      ]
     },
     "execution_count": 13,
     "metadata": {},
     "output_type": "execute_result"
    }
   ],
   "source": [
    "sql_query"
   ]
  },
  {
   "cell_type": "markdown",
   "metadata": {},
   "source": [
    "#### now we see we put correct name for UK we get the right output"
   ]
  },
  {
   "cell_type": "code",
   "execution_count": 14,
   "metadata": {},
   "outputs": [
    {
     "name": "stdout",
     "output_type": "stream",
     "text": [
      "dataset has been created with name UK_Music_Genre_Popularity\n"
     ]
    }
   ],
   "source": [
    "input=\"make me a pie chart for the top 5 most popular genres in the United Kingdom\"\n",
    "cleaner =NL_SECURITY_LAYER(input)\n",
    "protection_output = cleaner.protect_input()\n",
    "\n",
    "if not protection_output:\n",
    "    final_output=invoke_full_chain(input)\n",
    "else:\n",
    "    print(protection_output)\n",
    "sql_query, dataset_name, chart_type, viz_type, slice_name = final_output\n",
    "sc.create_dataset(sql=sql_query, table_name=dataset_name)\n",
    "sc.create_chart(slice_name=slice_name,\n",
    "                       viz_type=viz_type,\n",
    "                       dashboard_ids=None)"
   ]
  },
  {
   "cell_type": "code",
   "execution_count": 15,
   "metadata": {},
   "outputs": [
    {
     "name": "stdout",
     "output_type": "stream",
     "text": [
      "dataset has been created with name global_music_sales_by_artist\n"
     ]
    }
   ],
   "source": [
    "input=\"make me a bar chart for the most popular artists globally\"\n",
    "cleaner =NL_SECURITY_LAYER(input)\n",
    "protection_output = cleaner.protect_input()\n",
    "\n",
    "if not protection_output:\n",
    "    final_output=invoke_full_chain(input)\n",
    "else:\n",
    "    print(protection_output)\n",
    "sql_query, dataset_name, chart_type, viz_type, slice_name = final_output\n",
    "sc.create_dataset(sql=sql_query, table_name=dataset_name)\n",
    "sc.create_chart(slice_name=slice_name,\n",
    "                       viz_type=viz_type,\n",
    "                       dashboard_ids=None)"
   ]
  },
  {
   "cell_type": "code",
   "execution_count": 16,
   "metadata": {},
   "outputs": [
    {
     "name": "stdout",
     "output_type": "stream",
     "text": [
      "dataset has been created with name lost_sales_revenue\n"
     ]
    },
    {
     "ename": "KeyError",
     "evalue": "'id'",
     "output_type": "error",
     "traceback": [
      "\u001b[1;31m---------------------------------------------------------------------------\u001b[0m",
      "\u001b[1;31mKeyError\u001b[0m                                  Traceback (most recent call last)",
      "Cell \u001b[1;32mIn[16], line 10\u001b[0m\n\u001b[0;32m      8\u001b[0m     \u001b[38;5;28mprint\u001b[39m(protection_output)\n\u001b[0;32m      9\u001b[0m sql_query, dataset_name, chart_type, viz_type, slice_name \u001b[38;5;241m=\u001b[39m final_output\n\u001b[1;32m---> 10\u001b[0m \u001b[43msc\u001b[49m\u001b[38;5;241;43m.\u001b[39;49m\u001b[43mcreate_dataset\u001b[49m\u001b[43m(\u001b[49m\u001b[43msql\u001b[49m\u001b[38;5;241;43m=\u001b[39;49m\u001b[43msql_query\u001b[49m\u001b[43m,\u001b[49m\u001b[43m \u001b[49m\u001b[43mtable_name\u001b[49m\u001b[38;5;241;43m=\u001b[39;49m\u001b[43mdataset_name\u001b[49m\u001b[43m)\u001b[49m\n\u001b[0;32m     11\u001b[0m sc\u001b[38;5;241m.\u001b[39mcreate_chart(slice_name\u001b[38;5;241m=\u001b[39mslice_name,\n\u001b[0;32m     12\u001b[0m                        viz_type\u001b[38;5;241m=\u001b[39mviz_type,\n\u001b[0;32m     13\u001b[0m                        dashboard_ids\u001b[38;5;241m=\u001b[39m\u001b[38;5;28;01mNone\u001b[39;00m)\n",
      "File \u001b[1;32mf:\\Users\\hassa\\carecognitics_backend\\supersetapiclient\\client.py:81\u001b[0m, in \u001b[0;36mSupersetAPIClient.create_dataset\u001b[1;34m(self, sql, table_name)\u001b[0m\n\u001b[0;32m     69\u001b[0m \u001b[38;5;28;01mdef\u001b[39;00m \u001b[38;5;21mcreate_dataset\u001b[39m(\u001b[38;5;28mself\u001b[39m,\n\u001b[0;32m     70\u001b[0m                        sql:\u001b[38;5;28mstr\u001b[39m,\n\u001b[0;32m     71\u001b[0m                        table_name:\u001b[38;5;28mstr\u001b[39m):\n\u001b[0;32m     72\u001b[0m \u001b[38;5;250m    \u001b[39m\u001b[38;5;124;03m\"\"\"Function to excecute SQL commands and store it as a dataset all using superset API\u001b[39;00m\n\u001b[0;32m     73\u001b[0m \n\u001b[0;32m     74\u001b[0m \u001b[38;5;124;03m    Params:\u001b[39;00m\n\u001b[1;32m   (...)\u001b[0m\n\u001b[0;32m     79\u001b[0m \u001b[38;5;124;03m    \u001b[39;00m\n\u001b[0;32m     80\u001b[0m \u001b[38;5;124;03m    \"\"\"\u001b[39;00m\n\u001b[1;32m---> 81\u001b[0m     \u001b[38;5;28;43mself\u001b[39;49m\u001b[38;5;241;43m.\u001b[39;49m\u001b[43mdataset\u001b[49m\u001b[38;5;241;43m.\u001b[39;49m\u001b[43mcreate\u001b[49m\u001b[43m(\u001b[49m\n\u001b[0;32m     82\u001b[0m \u001b[43m                       \u001b[49m\u001b[43msql\u001b[49m\u001b[38;5;241;43m=\u001b[39;49m\u001b[43msql\u001b[49m\u001b[43m,\u001b[49m\n\u001b[0;32m     83\u001b[0m \u001b[43m                       \u001b[49m\u001b[43mdb_ids\u001b[49m\u001b[38;5;241;43m=\u001b[39;49m\u001b[38;5;28;43mself\u001b[39;49m\u001b[38;5;241;43m.\u001b[39;49m\u001b[43mdb_ids\u001b[49m\u001b[43m,\u001b[49m\n\u001b[0;32m     84\u001b[0m \u001b[43m                       \u001b[49m\u001b[43mtable_name\u001b[49m\u001b[38;5;241;43m=\u001b[39;49m\u001b[43mtable_name\u001b[49m\u001b[43m)\u001b[49m\n",
      "File \u001b[1;32mf:\\Users\\hassa\\carecognitics_backend\\supersetapiclient\\dataset.py:84\u001b[0m, in \u001b[0;36mDatasets.create\u001b[1;34m(self, sql, db_ids, table_name, db_name)\u001b[0m\n\u001b[0;32m     72\u001b[0m r \u001b[38;5;241m=\u001b[39m requests\u001b[38;5;241m.\u001b[39mpost(\u001b[38;5;28mself\u001b[39m\u001b[38;5;241m.\u001b[39m_base_url\u001b[38;5;241m+\u001b[39m\u001b[38;5;124m'\u001b[39m\u001b[38;5;124m/api/v1/dataset/\u001b[39m\u001b[38;5;124m'\u001b[39m,\n\u001b[0;32m     73\u001b[0m                 headers\u001b[38;5;241m=\u001b[39m\u001b[38;5;28mself\u001b[39m\u001b[38;5;241m.\u001b[39m_headerAuth,\n\u001b[0;32m     74\u001b[0m                 json\u001b[38;5;241m=\u001b[39m{\u001b[38;5;124m\"\u001b[39m\u001b[38;5;124mdatabase\u001b[39m\u001b[38;5;124m\"\u001b[39m: db_ids[db_name],\n\u001b[1;32m   (...)\u001b[0m\n\u001b[0;32m     81\u001b[0m                 \u001b[38;5;124m\"\u001b[39m\u001b[38;5;124msql\u001b[39m\u001b[38;5;124m\"\u001b[39m: sql ,\n\u001b[0;32m     82\u001b[0m                 \u001b[38;5;124m\"\u001b[39m\u001b[38;5;124mtable_name\u001b[39m\u001b[38;5;124m\"\u001b[39m: table_name })\n\u001b[0;32m     83\u001b[0m \u001b[38;5;28mprint\u001b[39m(\u001b[38;5;124mf\u001b[39m\u001b[38;5;124m\"\u001b[39m\u001b[38;5;124mdataset has been created with name \u001b[39m\u001b[38;5;132;01m{\u001b[39;00mtable_name\u001b[38;5;132;01m}\u001b[39;00m\u001b[38;5;124m\"\u001b[39m)\n\u001b[1;32m---> 84\u001b[0m excecuted_data_id \u001b[38;5;241m=\u001b[39m\u001b[43mr\u001b[49m\u001b[38;5;241;43m.\u001b[39;49m\u001b[43mjson\u001b[49m\u001b[43m(\u001b[49m\u001b[43m)\u001b[49m\u001b[43m[\u001b[49m\u001b[38;5;124;43m'\u001b[39;49m\u001b[38;5;124;43mid\u001b[39;49m\u001b[38;5;124;43m'\u001b[39;49m\u001b[43m]\u001b[49m \u001b[38;5;66;03m# e.g 31\u001b[39;00m\n\u001b[0;32m     85\u001b[0m excecuted_data_uid:\u001b[38;5;28mstr\u001b[39m\u001b[38;5;241m=\u001b[39mr\u001b[38;5;241m.\u001b[39mjson()[\u001b[38;5;124m'\u001b[39m\u001b[38;5;124mdata\u001b[39m\u001b[38;5;124m'\u001b[39m][\u001b[38;5;124m'\u001b[39m\u001b[38;5;124muid\u001b[39m\u001b[38;5;124m'\u001b[39m] \u001b[38;5;66;03m# e.g 31__table\u001b[39;00m\n\u001b[0;32m     86\u001b[0m excecuted_data_type:\u001b[38;5;28mstr\u001b[39m\u001b[38;5;241m=\u001b[39mr\u001b[38;5;241m.\u001b[39mjson()[\u001b[38;5;124m'\u001b[39m\u001b[38;5;124mdata\u001b[39m\u001b[38;5;124m'\u001b[39m][\u001b[38;5;124m'\u001b[39m\u001b[38;5;124mtype\u001b[39m\u001b[38;5;124m'\u001b[39m] \u001b[38;5;66;03m# e.g table\u001b[39;00m\n",
      "\u001b[1;31mKeyError\u001b[0m: 'id'"
     ]
    }
   ],
   "source": [
    "input=\"make me a bar chart for sales revenue of the artist 'Lost' globally\"\n",
    "cleaner =NL_SECURITY_LAYER(input)\n",
    "protection_output = cleaner.protect_input()\n",
    "\n",
    "if not protection_output:\n",
    "    final_output=invoke_full_chain(input)\n",
    "else:\n",
    "    print(protection_output)\n",
    "sql_query, dataset_name, chart_type, viz_type, slice_name = final_output\n",
    "sc.create_dataset(sql=sql_query, table_name=dataset_name)\n",
    "sc.create_chart(slice_name=slice_name,\n",
    "                       viz_type=viz_type,\n",
    "                       dashboard_ids=None)"
   ]
  },
  {
   "cell_type": "code",
   "execution_count": 4,
   "metadata": {},
   "outputs": [
    {
     "name": "stdout",
     "output_type": "stream",
     "text": [
      "<Response [201]> {'data': {'always_filter_main_dttm': False, 'cache_timeout': None, 'column_formats': {}, 'columns': [{'advanced_data_type': None, 'certification_details': None, 'certified_by': None, 'column_name': 'Year', 'description': None, 'expression': None, 'filterable': True, 'groupby': True, 'id': 877, 'is_certified': False, 'is_dttm': False, 'python_date_format': None, 'type': 'DECIMAL', 'type_generic': 0, 'verbose_name': None, 'warning_markdown': None}, {'advanced_data_type': None, 'certification_details': None, 'certified_by': None, 'column_name': 'Global Sales Revenue for Lost', 'description': None, 'expression': None, 'filterable': True, 'groupby': True, 'id': 878, 'is_certified': False, 'is_dttm': False, 'python_date_format': None, 'type': 'DECIMAL', 'type_generic': 0, 'verbose_name': None, 'warning_markdown': None}], 'currency_formats': {}, 'database': {'allows_cost_estimate': None, 'allows_subquery': True, 'allows_virtual_table_explore': True, 'backend': 'postgresql', 'configuration_method': 'sqlalchemy_form', 'disable_data_preview': False, 'engine_information': {'disable_ssh_tunneling': False, 'supports_file_upload': True}, 'explore_database_id': 5, 'id': 5, 'name': 'chinook', 'parameters': {'database': 'chinook', 'encryption': False, 'host': 'host.docker.internal', 'password': 'XXXXXXXXXX', 'port': None, 'query': {}, 'username': 'postgres'}, 'parameters_schema': {'properties': {'database': {'description': 'Database name', 'type': 'string'}, 'encryption': {'description': 'Use an encrypted connection to the database', 'type': 'boolean'}, 'host': {'description': 'Hostname or IP address', 'type': 'string'}, 'password': {'description': 'Password', 'nullable': True, 'type': 'string'}, 'port': {'description': 'Database port', 'maximum': 65536, 'minimum': 0, 'type': 'integer'}, 'query': {'additionalProperties': {}, 'description': 'Additional parameters', 'type': 'object'}, 'ssh': {'description': 'Use an ssh tunnel connection to the database', 'type': 'boolean'}, 'username': {'description': 'Username', 'nullable': True, 'type': 'string'}}, 'required': ['database', 'host', 'port', 'username'], 'type': 'object'}, 'schema_options': {}}, 'datasource_name': 'Global_Sales_Revenue_Lost', 'default_endpoint': None, 'description': None, 'edit_url': '/tablemodelview/edit/90', 'extra': None, 'fetch_values_predicate': None, 'filter_select': True, 'filter_select_enabled': True, 'granularity_sqla': [], 'health_check_message': None, 'id': 90, 'is_sqllab_view': False, 'main_dttm_col': None, 'metrics': [{'certification_details': None, 'certified_by': None, 'currency': None, 'd3format': None, 'description': None, 'expression': 'COUNT(*)', 'id': 92, 'is_certified': False, 'metric_name': 'count', 'verbose_name': 'COUNT(*)', 'warning_markdown': None, 'warning_text': None}], 'name': 'public.Global_Sales_Revenue_Lost', 'normalize_columns': False, 'offset': 0, 'order_by_choices': [['[\"Global Sales Revenue for Lost\", true]', 'Global Sales Revenue for Lost [asc]'], ['[\"Global Sales Revenue for Lost\", false]', 'Global Sales Revenue for Lost [desc]'], ['[\"Year\", true]', 'Year [asc]'], ['[\"Year\", false]', 'Year [desc]']], 'owners': [{'first_name': 'Superset', 'id': 1, 'last_name': 'Admin', 'username': 'admin'}], 'params': None, 'perm': '[chinook].[Global_Sales_Revenue_Lost](id:90)', 'schema': 'public', 'select_star': 'SELECT *\\nFROM public.\"Global_Sales_Revenue_Lost\"\\nLIMIT 100', 'sql': 'SELECT      EXTRACT(YEAR FROM invoice_date) AS \"Year\",     SUM(total) AS \"Global Sales Revenue for Lost\" FROM invoice JOIN customer ON invoice.customer_id = customer.customer_id JOIN invoice_line ON invoice.invoice_id = invoice_line.invoice_id JOIN track ON invoice_line.track_id = track.track_id JOIN album ON track.album_id = album.album_id JOIN artist ON album.artist_id = artist.artist_id WHERE artist.name = \\'Lost\\' GROUP BY EXTRACT(YEAR FROM invoice_date) ORDER BY \"Year\";', 'table_name': 'Global_Sales_Revenue_Lost', 'template_params': None, 'time_grain_sqla': [['PT1S', 'Second'], ['PT1M', 'Minute'], ['PT1H', 'Hour'], ['P1D', 'Day'], ['P1W', 'Week'], ['P1M', 'Month'], ['P3M', 'Quarter'], ['P1Y', 'Year']], 'type': 'table', 'uid': '90__table', 'verbose_map': {'Global Sales Revenue for Lost': 'Global Sales Revenue for Lost', 'Year': 'Year', '__timestamp': 'Time', 'count': 'COUNT(*)'}}, 'id': 90, 'result': {'always_filter_main_dttm': False, 'database': 5, 'external_url': 'string', 'is_managed_externally': True, 'normalize_columns': False, 'owners': [1], 'schema': 'public', 'sql': 'SELECT      EXTRACT(YEAR FROM invoice_date) AS \"Year\",     SUM(total) AS \"Global Sales Revenue for Lost\" FROM invoice JOIN customer ON invoice.customer_id = customer.customer_id JOIN invoice_line ON invoice.invoice_id = invoice_line.invoice_id JOIN track ON invoice_line.track_id = track.track_id JOIN album ON track.album_id = album.album_id JOIN artist ON album.artist_id = artist.artist_id WHERE artist.name = \\'Lost\\' GROUP BY EXTRACT(YEAR FROM invoice_date) ORDER BY \"Year\";', 'table_name': 'Global_Sales_Revenue_Lost'}}\n",
      "dataset has been created with name Global_Sales_Revenue_Lost\n"
     ]
    }
   ],
   "source": [
    "input=\"make me a bar chart for global sales revenue of the artist 'Lost'\"\n",
    "cleaner =NL_SECURITY_LAYER(input)\n",
    "protection_output = cleaner.protect_input()\n",
    "\n",
    "if not protection_output:\n",
    "    final_output=invoke_full_chain(input)\n",
    "else:\n",
    "    print(protection_output)\n",
    "sql_query, dataset_name, chart_type, viz_type, slice_name = final_output\n",
    "sc.create_dataset(sql=sql_query, table_name=dataset_name, verbose=True)\n",
    "sc.create_chart(slice_name=slice_name,\n",
    "                       viz_type=viz_type,\n",
    "                       dashboard_ids=[31])"
   ]
  },
  {
   "cell_type": "code",
   "execution_count": 5,
   "metadata": {},
   "outputs": [
    {
     "data": {
      "text/plain": [
       "'SELECT      EXTRACT(YEAR FROM invoice_date) AS \"Year\",     SUM(total) AS \"Global Sales Revenue for Lost\" FROM invoice JOIN customer ON invoice.customer_id = customer.customer_id JOIN invoice_line ON invoice.invoice_id = invoice_line.invoice_id JOIN track ON invoice_line.track_id = track.track_id JOIN album ON track.album_id = album.album_id JOIN artist ON album.artist_id = artist.artist_id WHERE artist.name = \\'Lost\\' GROUP BY EXTRACT(YEAR FROM invoice_date) ORDER BY \"Year\";'"
      ]
     },
     "execution_count": 5,
     "metadata": {},
     "output_type": "execute_result"
    }
   ],
   "source": [
    "sql_query"
   ]
  },
  {
   "cell_type": "code",
   "execution_count": 6,
   "metadata": {},
   "outputs": [
    {
     "name": "stdout",
     "output_type": "stream",
     "text": [
      "<Response [201]> {'data': {'always_filter_main_dttm': False, 'cache_timeout': None, 'column_formats': {}, 'columns': [{'advanced_data_type': None, 'certification_details': None, 'certified_by': None, 'column_name': 'genre', 'description': None, 'expression': None, 'filterable': True, 'groupby': True, 'id': 879, 'is_certified': False, 'is_dttm': False, 'python_date_format': None, 'type': 'STRING', 'type_generic': 1, 'verbose_name': None, 'warning_markdown': None}, {'advanced_data_type': None, 'certification_details': None, 'certified_by': None, 'column_name': 'totalduration', 'description': None, 'expression': None, 'filterable': True, 'groupby': True, 'id': 880, 'is_certified': False, 'is_dttm': False, 'python_date_format': None, 'type': 'LONGINTEGER', 'type_generic': 0, 'verbose_name': None, 'warning_markdown': None}, {'advanced_data_type': None, 'certification_details': None, 'certified_by': None, 'column_name': 'percentage', 'description': None, 'expression': None, 'filterable': True, 'groupby': True, 'id': 881, 'is_certified': False, 'is_dttm': False, 'python_date_format': None, 'type': 'LONGINTEGER', 'type_generic': 0, 'verbose_name': None, 'warning_markdown': None}], 'currency_formats': {}, 'database': {'allows_cost_estimate': None, 'allows_subquery': True, 'allows_virtual_table_explore': True, 'backend': 'postgresql', 'configuration_method': 'sqlalchemy_form', 'disable_data_preview': False, 'engine_information': {'disable_ssh_tunneling': False, 'supports_file_upload': True}, 'explore_database_id': 5, 'id': 5, 'name': 'chinook', 'parameters': {'database': 'chinook', 'encryption': False, 'host': 'host.docker.internal', 'password': 'XXXXXXXXXX', 'port': None, 'query': {}, 'username': 'postgres'}, 'parameters_schema': {'properties': {'database': {'description': 'Database name', 'type': 'string'}, 'encryption': {'description': 'Use an encrypted connection to the database', 'type': 'boolean'}, 'host': {'description': 'Hostname or IP address', 'type': 'string'}, 'password': {'description': 'Password', 'nullable': True, 'type': 'string'}, 'port': {'description': 'Database port', 'maximum': 65536, 'minimum': 0, 'type': 'integer'}, 'query': {'additionalProperties': {}, 'description': 'Additional parameters', 'type': 'object'}, 'ssh': {'description': 'Use an ssh tunnel connection to the database', 'type': 'boolean'}, 'username': {'description': 'Username', 'nullable': True, 'type': 'string'}}, 'required': ['database', 'host', 'port', 'username'], 'type': 'object'}, 'schema_options': {}}, 'datasource_name': 'Music_Genre_Duration', 'default_endpoint': None, 'description': None, 'edit_url': '/tablemodelview/edit/91', 'extra': None, 'fetch_values_predicate': None, 'filter_select': True, 'filter_select_enabled': True, 'granularity_sqla': [], 'health_check_message': None, 'id': 91, 'is_sqllab_view': False, 'main_dttm_col': None, 'metrics': [{'certification_details': None, 'certified_by': None, 'currency': None, 'd3format': None, 'description': None, 'expression': 'COUNT(*)', 'id': 93, 'is_certified': False, 'metric_name': 'count', 'verbose_name': 'COUNT(*)', 'warning_markdown': None, 'warning_text': None}], 'name': 'public.Music_Genre_Duration', 'normalize_columns': False, 'offset': 0, 'order_by_choices': [['[\"genre\", true]', 'genre [asc]'], ['[\"genre\", false]', 'genre [desc]'], ['[\"percentage\", true]', 'percentage [asc]'], ['[\"percentage\", false]', 'percentage [desc]'], ['[\"totalduration\", true]', 'totalduration [asc]'], ['[\"totalduration\", false]', 'totalduration [desc]']], 'owners': [{'first_name': 'Superset', 'id': 1, 'last_name': 'Admin', 'username': 'admin'}], 'params': None, 'perm': '[chinook].[Music_Genre_Duration](id:91)', 'schema': 'public', 'select_star': 'SELECT *\\nFROM public.\"Music_Genre_Duration\"\\nLIMIT 100', 'sql': 'SELECT g.name AS Genre, SUM(t.milliseconds) AS TotalDuration,     (SUM(t.milliseconds) / (SELECT SUM(milliseconds) FROM track)) * 100 AS Percentage FROM track AS t JOIN genre AS g ON t.genre_id = g.genre_id GROUP BY g.genre_id ORDER BY TotalDuration DESC LIMIT 3;', 'table_name': 'Music_Genre_Duration', 'template_params': None, 'time_grain_sqla': [['PT1S', 'Second'], ['PT1M', 'Minute'], ['PT1H', 'Hour'], ['P1D', 'Day'], ['P1W', 'Week'], ['P1M', 'Month'], ['P3M', 'Quarter'], ['P1Y', 'Year']], 'type': 'table', 'uid': '91__table', 'verbose_map': {'__timestamp': 'Time', 'count': 'COUNT(*)', 'genre': 'genre', 'percentage': 'percentage', 'totalduration': 'totalduration'}}, 'id': 91, 'result': {'always_filter_main_dttm': False, 'database': 5, 'external_url': 'string', 'is_managed_externally': True, 'normalize_columns': False, 'owners': [1], 'schema': 'public', 'sql': 'SELECT g.name AS Genre, SUM(t.milliseconds) AS TotalDuration,     (SUM(t.milliseconds) / (SELECT SUM(milliseconds) FROM track)) * 100 AS Percentage FROM track AS t JOIN genre AS g ON t.genre_id = g.genre_id GROUP BY g.genre_id ORDER BY TotalDuration DESC LIMIT 3;', 'table_name': 'Music_Genre_Duration'}}\n",
      "dataset has been created with name Music_Genre_Duration\n"
     ]
    }
   ],
   "source": [
    "input=\"make a pie chart for the genres with the longest duration \"\n",
    "cleaner =NL_SECURITY_LAYER(input)\n",
    "protection_output = cleaner.protect_input()\n",
    "\n",
    "if not protection_output:\n",
    "    final_output=invoke_full_chain(input)\n",
    "else:\n",
    "    print(protection_output)\n",
    "sql_query, dataset_name, chart_type, viz_type, slice_name = final_output\n",
    "sc.create_dataset(sql=sql_query, table_name=dataset_name, verbose=True)\n",
    "sc.create_chart(slice_name=slice_name,\n",
    "                       viz_type=viz_type,\n",
    "                       dashboard_ids=[31])"
   ]
  },
  {
   "cell_type": "code",
   "execution_count": 4,
   "metadata": {},
   "outputs": [
    {
     "name": "stdout",
     "output_type": "stream",
     "text": [
      "dataset has been created with name track_sales_usa\n",
      "<Response [201]> {'id': 732, 'result': {'cache_timeout': None, 'certification_details': None, 'certified_by': None, 'dashboards': [31], 'datasource_id': 101, 'datasource_name': 'public.track_sales_usa', 'datasource_type': 'table', 'description': 'null', 'params': '{\"datasource\": \"101__table\", \"viz_type\": \"echarts_timeseries_line\", \"x_axis\": \"month\", \"time_grain_sqla\": \"P3M\", \"x_axis_sort_asc\": true, \"x_axis_sort_series\": \"name\", \"x_axis_sort_series_ascending\": true, \"metrics\": [{\"expressionType\": \"SIMPLE\", \"column\": {\"advanced_data_type\": null, \"certification_details\": null, \"certified_by\": null, \"column_name\": \"total_tracks_sold\", \"description\": null, \"expression\": null, \"filterable\": true, \"groupby\": true, \"id\": null, \"is_certified\": false, \"is_dttm\": false, \"python_date_format\": null, \"type\": \"LONGINTEGER\", \"type_generic\": 0, \"verbose_name\": null, \"warning_markdown\": null}, \"aggregate\": \"AVG\", \"sqlExpression\": null, \"datasourceWarning\": false, \"hasCustomLabel\": false, \"label\": \"total_tracks_sold\", \"optionName\": null}], \"groupby\": [], \"adhoc_filters\": [{\"clause\": \"WHERE\", \"subject\": \"month\", \"operator\": \"TEMPORAL_RANGE\", \"comparator\": \"No filter\", \"expressionType\": \"SIMPLE\"}], \"order_desc\": true, \"row_limit\": 10000, \"truncate_metric\": true, \"show_empty_columns\": true, \"comparison_type\": \"values\", \"annotation_layers\": [], \"forecastPeriods\": 10, \"forecastInterval\": 0.8, \"x_axis_title_margin\": 15, \"y_axis_title_margin\": 15, \"y_axis_title_position\": \"Left\", \"sort_series_type\": \"sum\", \"color_scheme\": \"supersetColors\", \"seriesType\": \"line\", \"only_total\": true, \"opacity\": 0.2, \"markerSize\": 6, \"show_legend\": true, \"legendType\": \"scroll\", \"legendOrientation\": \"top\", \"x_axis_time_format\": \"smart_date\", \"rich_tooltip\": true, \"tooltipTimeFormat\": \"smart_date\", \"y_axis_format\": \"SMART_NUMBER\", \"truncateXAxis\": true, \"y_axis_bounds\": [null, null], \"extra_form_data\": {}, \"dashboards\": []}', 'slice_name': '\"US Track Sales Over Time\"', 'viz_type': 'echarts_timeseries_line'}}\n"
     ]
    }
   ],
   "source": [
    "input=\"create a timeseries chart for tracks sales in the USA\"\n",
    "cleaner =NL_SECURITY_LAYER(input)\n",
    "protection_output = cleaner.protect_input()\n",
    "\n",
    "if not protection_output:\n",
    "    final_output=invoke_full_chain(input)\n",
    "else:\n",
    "    print(protection_output)\n",
    "sql_query, dataset_name, chart_type, viz_type, slice_name = final_output\n",
    "sc.create_dataset(sql=sql_query, table_name=dataset_name, verbose=False)\n",
    "sc.create_chart(slice_name=slice_name,\n",
    "                       viz_type=viz_type,\n",
    "                       dashboard_ids=[31],\n",
    "                       verbose=True)"
   ]
  },
  {
   "cell_type": "code",
   "execution_count": 6,
   "metadata": {},
   "outputs": [
    {
     "data": {
      "text/plain": [
       "(\"SELECT     date_trunc('month', i.invoice_date) AS month,     SUM(il.quantity) AS total_tracks_sold FROM invoice i JOIN invoice_line il ON i.invoice_id = il.invoice_id WHERE i.billing_country = 'USA' GROUP BY month ORDER BY month;\",\n",
       " 'track_sales_usa',\n",
       " 'Timeseries',\n",
       " 'echarts_timeseries_line',\n",
       " '\"US Track Sales Over Time\"')"
      ]
     },
     "execution_count": 6,
     "metadata": {},
     "output_type": "execute_result"
    }
   ],
   "source": [
    "sql_query, dataset_name, chart_type, viz_type, slice_name"
   ]
  },
  {
   "cell_type": "code",
   "execution_count": 5,
   "metadata": {},
   "outputs": [
    {
     "name": "stdout",
     "output_type": "stream",
     "text": [
      "generating SQL\n",
      "*20\n",
      "SQL generated\n",
      "*20\n",
      "creating dataset\n",
      "*20\n",
      "dataset has been created with name music_sales_data\n",
      "creating chart\n",
      "*20\n",
      "<Response [201]> {'id': 736, 'result': {'cache_timeout': None, 'certification_details': None, 'certified_by': None, 'dashboards': [31], 'datasource_id': 105, 'datasource_name': 'public.music_sales_data', 'datasource_type': 'table', 'description': 'null', 'params': '{\"datasource\": \"105__table\", \"viz_type\": \"table\", \"query_mode\": \"aggregate\", \"groupby\": [\"genre\"], \"time_grain_sqla\": \"P1D\", \"temporal_columns_lookup\": {}, \"metrics\": [{\"expressionType\": \"SIMPLE\", \"column\": {\"advanced_data_type\": null, \"certification_details\": null, \"certified_by\": null, \"column_name\": \"sales_revenue\", \"description\": null, \"expression\": null, \"filterable\": true, \"groupby\": true, \"id\": null, \"is_certified\": false, \"is_dttm\": false, \"python_date_format\": null, \"type\": \"DECIMAL\", \"type_generic\": 0, \"verbose_name\": null, \"warning_markdown\": null}, \"aggregate\": \"AVG\", \"sqlExpression\": null, \"datasourceWarning\": false, \"hasCustomLabel\": false, \"label\": \"sales_revenue\", \"optionName\": null}], \"all_columns\": [], \"percent_metrics\": [], \"adhoc_filters\": [], \"order_by_cols\": [], \"row_limit\": 1000, \"server_page_length\": 10, \"order_desc\": true, \"table_timestamp_format\": \"smart_date\", \"show_cell_bars\": true, \"color_pn\": true, \"extra_form_data\": {}, \"dashboards\": []}', 'slice_name': 'Music Genre Sales Performance', 'viz_type': 'table'}}\n"
     ]
    }
   ],
   "source": [
    "input=\"create a table for the names and sales revenue of all genres\"\n",
    "cleaner =NL_SECURITY_LAYER(input)\n",
    "protection_output = cleaner.protect_input()\n",
    "\n",
    "if not protection_output:\n",
    "    print('generating SQL'+'\\n'+'-'*20)\n",
    "    final_output=invoke_full_chain(input)\n",
    "else:\n",
    "    print(protection_output)\n",
    "sql_query, dataset_name, chart_type, viz_type, slice_name = final_output\n",
    "print('SQL generated'+'\\n'+'-'*20)\n",
    "print('creating dataset'+'\\n'+'-'*20)\n",
    "sc.create_dataset(sql=sql_query, table_name=dataset_name, verbose=False)\n",
    "print('creating chart'+'\\n'+'-'*20)\n",
    "sc.create_chart(slice_name=slice_name,\n",
    "                       viz_type=viz_type,\n",
    "                       dashboard_ids=[31],\n",
    "                       verbose=True)"
   ]
  },
  {
   "cell_type": "code",
   "execution_count": 4,
   "metadata": {},
   "outputs": [
    {
     "name": "stdout",
     "output_type": "stream",
     "text": [
      "generating SQL\n",
      "--------------------\n",
      "SQL generated\n",
      "--------------------\n",
      "creating dataset\n",
      "--------------------\n",
      "dataset has been created with name Music_Revenue_By_Genre\n",
      "creating chart\n",
      "--------------------\n",
      "<Response [201]> {'id': 741, 'result': {'cache_timeout': None, 'certification_details': None, 'certified_by': None, 'dashboards': [31], 'datasource_id': 113, 'datasource_name': 'public.Music_Revenue_By_Genre', 'datasource_type': 'table', 'description': 'null', 'params': '{\"datasource\": \"113__table\", \"viz_type\": \"echarts_timeseries_scatter\", \"x_axis\": \"genre\", \"time_grain_sqla\": \"P1D\", \"xAxisForceCategorical\": false, \"x_axis_sort_asc\": true, \"x_axis_sort_series\": \"name\", \"x_axis_sort_series_ascending\": true, \"metrics\": [{\"expressionType\": \"SIMPLE\", \"column\": {\"advanced_data_type\": null, \"certification_details\": null, \"certified_by\": null, \"column_name\": \"revenue\", \"description\": null, \"expression\": null, \"filterable\": true, \"groupby\": true, \"id\": null, \"is_certified\": false, \"is_dttm\": false, \"python_date_format\": null, \"type\": \"DOUBLE PRECISION\", \"type_generic\": 0, \"verbose_name\": null, \"warning_markdown\": null}, \"aggregate\": \"AVG\", \"sqlExpression\": null, \"datasourceWarning\": false, \"hasCustomLabel\": false, \"label\": \"revenue\", \"optionName\": null}], \"groupby\": [], \"adhoc_filters\": [{\"clause\": \"WHERE\", \"subject\": \"order_date\", \"operator\": \"TEMPORAL_RANGE\", \"comparator\": \"No filter\", \"expressionType\": \"SIMPLE\"}], \"order_desc\": true, \"row_limit\": 10000, \"truncate_metric\": true, \"show_empty_columns\": true, \"comparison_type\": \"values\", \"annotation_layers\": [], \"forecastPeriods\": 10, \"forecastInterval\": 0.8, \"x_axis_title\": \"genre\", \"x_axis_title_margin\": 15, \"y_axis_title\": \"sales\", \"y_axis_title_margin\": 50, \"y_axis_title_position\": \"Left\", \"sort_series_type\": \"sum\", \"color_scheme\": \"d3Category20c\", \"only_total\": true, \"markerSize\": 6, \"show_legend\": true, \"legendType\": \"scroll\", \"legendOrientation\": \"top\", \"x_axis_time_format\": \"smart_date\", \"rich_tooltip\": true, \"tooltipTimeFormat\": \"smart_date\", \"y_axis_format\": \"SMART_NUMBER\", \"truncateXAxis\": true, \"y_axis_bounds\": [null, null], \"extra_form_data\": {}, \"dashboards\": []}', 'slice_name': '\"Revenue by Genre\"', 'viz_type': 'echarts_timeseries_scatter'}}\n"
     ]
    }
   ],
   "source": [
    "input=\"create a scatter plot of the revenue of each artist and the genre they are associated with, only return two columns \"\n",
    "cleaner =NL_SECURITY_LAYER(input)\n",
    "protection_output = cleaner.protect_input()\n",
    "\n",
    "if not protection_output:\n",
    "    print('generating SQL'+'\\n'+'-'*20)\n",
    "    final_output=invoke_full_chain(input)\n",
    "else:\n",
    "    print(protection_output)\n",
    "sql_query, dataset_name, chart_type, viz_type, slice_name = final_output\n",
    "print('SQL generated'+'\\n'+'-'*20)\n",
    "print('creating dataset'+'\\n'+'-'*20)\n",
    "sc.create_dataset(sql=sql_query, table_name=dataset_name, verbose=False)\n",
    "print('creating chart'+'\\n'+'-'*20)\n",
    "sc.create_chart(slice_name=slice_name,\n",
    "                       viz_type=viz_type,\n",
    "                       dashboard_ids=[31],\n",
    "                       verbose=True)"
   ]
  },
  {
   "cell_type": "code",
   "execution_count": 5,
   "metadata": {},
   "outputs": [
    {
     "data": {
      "text/plain": [
       "('SELECT     g.name AS Genre,     SUM(il.unit_price * il.quantity) AS Revenue FROM genre g JOIN track t ON g.genre_id = t.genre_id JOIN invoice_line il ON t.track_id = il.track_id JOIN invoice i ON il.invoice_id = i.invoice_id GROUP BY g.name;',\n",
       " 'Music_Revenue_By_Genre',\n",
       " 'Scatter Plot',\n",
       " 'echarts_timeseries_scatter',\n",
       " '\"Revenue by Genre\"')"
      ]
     },
     "execution_count": 5,
     "metadata": {},
     "output_type": "execute_result"
    }
   ],
   "source": [
    "sql_query, dataset_name, chart_type, viz_type, slice_name"
   ]
  }
 ],
 "metadata": {
  "kernelspec": {
   "display_name": ".venv",
   "language": "python",
   "name": "python3"
  },
  "language_info": {
   "codemirror_mode": {
    "name": "ipython",
    "version": 3
   },
   "file_extension": ".py",
   "mimetype": "text/x-python",
   "name": "python",
   "nbconvert_exporter": "python",
   "pygments_lexer": "ipython3",
   "version": "3.11.2"
  }
 },
 "nbformat": 4,
 "nbformat_minor": 2
}
